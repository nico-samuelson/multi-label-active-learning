{
 "cells": [
  {
   "cell_type": "code",
   "execution_count": null,
   "id": "0e2cf802",
   "metadata": {},
   "outputs": [
    {
     "name": "stdout",
     "output_type": "stream",
     "text": [
      "Found 187 unique label combinations.\n",
      "\n",
      "Label Combination Occurrences (Top 20 shown if more exist):\n",
      "       ac air_panas   bau general kebersihan linen service sunrise_meal    tv  \\\n",
      "109  neut      neut  neut    neut        neg  neut    neut         neut  neut   \n",
      "125  neut      neut  neut    neut       neut  neut     neg         neut  neut   \n",
      "120  neut      neut  neut    neut       neut   neg    neut         neut  neut   \n",
      "57   neut       neg  neut    neut       neut  neut    neut         neut  neut   \n",
      "99   neut      neut  neut    neut        neg   neg    neut         neut  neut   \n",
      "..    ...       ...   ...     ...        ...   ...     ...          ...   ...   \n",
      "76   neut      neut   neg    neut        neg  neut     pos         neut  neut   \n",
      "77   neut      neut   neg    neut       neut   neg     neg         neut  neut   \n",
      "78   neut      neut   neg    neut       neut   neg    neut         neut  neut   \n",
      "81   neut      neut   neg    neut       neut  neut    neut          neg  neut   \n",
      "186   pos       pos  neut     pos       neut   neg     pos          pos  neut   \n",
      "\n",
      "     wifi  Count  \n",
      "109  neut     63  \n",
      "125  neut     32  \n",
      "120  neut     29  \n",
      "57   neut     24  \n",
      "99   neut     24  \n",
      "..    ...    ...  \n",
      "76   neut      1  \n",
      "77   neut      1  \n",
      "78    neg      1  \n",
      "81   neut      1  \n",
      "186  neut      1  \n",
      "\n",
      "[187 rows x 11 columns]\n"
     ]
    }
   ],
   "source": [
    "import pandas as pd\n",
    "\n",
    "# --- Configuration ---\n",
    "csv_file_path = './val_data.csv'  # <--- IMPORTANT: Replace with the actual path to your CSV file\n",
    "\n",
    "# List of your label columns\n",
    "label_columns = ['ac', 'air_panas', 'bau', 'general', 'kebersihan', 'linen', 'service', 'sunrise_meal', 'tv', 'wifi']\n",
    "# --- End Configuration ---\n",
    "\n",
    "try:\n",
    "    # Load the dataset from the CSV file\n",
    "    df = pd.read_csv(csv_file_path)\n",
    "\n",
    "    # Verify that all specified label columns exist in the DataFrame\n",
    "    missing_cols = [col for col in label_columns if col not in df.columns]\n",
    "    if missing_cols:\n",
    "        print(f\"Error: The following label columns were not found in the CSV: {missing_cols}\")\n",
    "        print(f\"Available columns are: {list(df.columns)}\")\n",
    "    else:\n",
    "        # Select only the label columns (optional, but good practice if there are many other columns)\n",
    "        # labels_df = df[label_columns] # You can use either df or labels_df below\n",
    "\n",
    "        # Group by all label columns and count the size of each group\n",
    "        # This effectively counts rows where the combination of values in label_columns is identical.\n",
    "        combination_counts = df.groupby(label_columns).size()\n",
    "\n",
    "        # Convert the result (which is a pandas Series with a MultiIndex)\n",
    "        # into a DataFrame for easier viewing. The count is named 'Count'.\n",
    "        combination_counts_df = combination_counts.reset_index(name='Count')\n",
    "\n",
    "        # Sort the results by count in descending order (most frequent combinations first)\n",
    "        combination_counts_df = combination_counts_df.sort_values('Count', ascending=False)\n",
    "\n",
    "        combination_counts_df.to_csv('label_combination_counts_2.csv', index=False)\n",
    "\n",
    "        # --- Display the results ---\n",
    "        print(f\"Found {len(combination_counts_df)} unique label combinations.\")\n",
    "        print(\"\\nLabel Combination Occurrences (Top 20 shown if more exist):\")\n",
    "        # Use pd.option_context to temporarily display more rows if needed\n",
    "        with pd.option_context('display.max_rows', 100):\n",
    "              print(combination_counts_df)\n",
    "\n",
    "\n",
    "\n",
    "except FileNotFoundError:\n",
    "    print(f\"Error: The file '{csv_file_path}' was not found.\")\n",
    "    print(\"Please make sure the file path is correct and the file exists.\")\n",
    "except Exception as e:\n",
    "    print(f\"An unexpected error occurred: {e}\")"
   ]
  },
  {
   "cell_type": "code",
   "execution_count": null,
   "id": "2433a782",
   "metadata": {},
   "outputs": [],
   "source": []
  }
 ],
 "metadata": {
  "kernelspec": {
   "display_name": "Python 3",
   "language": "python",
   "name": "python3"
  },
  "language_info": {
   "codemirror_mode": {
    "name": "ipython",
    "version": 3
   },
   "file_extension": ".py",
   "mimetype": "text/x-python",
   "name": "python",
   "nbconvert_exporter": "python",
   "pygments_lexer": "ipython3",
   "version": "3.9.6"
  }
 },
 "nbformat": 4,
 "nbformat_minor": 5
}
