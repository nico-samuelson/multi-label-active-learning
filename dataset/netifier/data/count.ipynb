{
 "cells": [
  {
   "cell_type": "code",
   "execution_count": 4,
   "id": "e2b75214",
   "metadata": {},
   "outputs": [
    {
     "name": "stdout",
     "output_type": "stream",
     "text": [
      "Found 16 unique label combinations.\n",
      "\n",
      "Label Combination Occurrences (Top 20 shown if more exist):\n",
      "    pornografi  sara  radikalisme  pencemaran_nama_baik  Count\n",
      "0            0     0            0                     0   2425\n",
      "8            1     0            0                     0   1890\n",
      "2            0     0            1                     0   1615\n",
      "4            0     1            0                     0   1353\n",
      "1            0     0            0                     1    855\n",
      "7            0     1            1                     1    606\n",
      "9            1     0            0                     1    471\n",
      "5            0     1            0                     1    334\n",
      "3            0     0            1                     1    108\n",
      "6            0     1            1                     0     79\n",
      "13           1     1            0                     1     41\n",
      "11           1     0            1                     1      9\n",
      "12           1     1            0                     0      6\n",
      "14           1     1            1                     0      5\n",
      "10           1     0            1                     0      2\n",
      "15           1     1            1                     1      1\n"
     ]
    }
   ],
   "source": [
    "import pandas as pd\n",
    "\n",
    "# --- Configuration ---\n",
    "csv_file_path = './augmented/oversampled.csv'  # <--- IMPORTANT: Replace with the actual path to your CSV file\n",
    "\n",
    "# List of your label columns\n",
    "label_columns = ['pornografi', 'sara', 'radikalisme', 'pencemaran_nama_baik']\n",
    "# --- End Configuration ---\n",
    "\n",
    "try:\n",
    "    # Load the dataset from the CSV file\n",
    "    df = pd.read_csv(csv_file_path, encoding='latin-1')\n",
    "\n",
    "    # Verify that all specified label columns exist in the DataFrame\n",
    "    missing_cols = [col for col in label_columns if col not in df.columns]\n",
    "    if missing_cols:\n",
    "        print(f\"Error: The following label columns were not found in the CSV: {missing_cols}\")\n",
    "        print(f\"Available columns are: {list(df.columns)}\")\n",
    "    else:\n",
    "        # Select only the label columns (optional, but good practice if there are many other columns)\n",
    "        # labels_df = df[label_columns] # You can use either df or labels_df below\n",
    "\n",
    "        # Group by all label columns and count the size of each group\n",
    "        # This effectively counts rows where the combination of values in label_columns is identical.\n",
    "        combination_counts = df.groupby(label_columns).size()\n",
    "\n",
    "        # Convert the result (which is a pandas Series with a MultiIndex)\n",
    "        # into a DataFrame for easier viewing. The count is named 'Count'.\n",
    "        combination_counts_df = combination_counts.reset_index(name='Count')\n",
    "\n",
    "        # Sort the results by count in descending order (most frequent combinations first)\n",
    "        combination_counts_df = combination_counts_df.sort_values('Count', ascending=False)\n",
    "\n",
    "        combination_counts_df.to_csv('./augmented/label_combination_counts_oversampled.csv', index=False)\n",
    "\n",
    "        # --- Display the results ---\n",
    "        print(f\"Found {len(combination_counts_df)} unique label combinations.\")\n",
    "        print(\"\\nLabel Combination Occurrences (Top 20 shown if more exist):\")\n",
    "        # Use pd.option_context to temporarily display more rows if needed\n",
    "        with pd.option_context('display.max_rows', 100):\n",
    "              print(combination_counts_df)\n",
    "\n",
    "        # Optional: Save the results to a new CSV file\n",
    "        # output_csv_path = 'label_combination_counts.csv'\n",
    "        # combination_counts_df.to_csv(output_csv_path, index=False)\n",
    "        # print(f\"\\nResults saved to {output_csv_path}\")\n",
    "\n",
    "\n",
    "except FileNotFoundError:\n",
    "    print(f\"Error: The file '{csv_file_path}' was not found.\")\n",
    "    print(\"Please make sure the file path is correct and the file exists.\")\n",
    "except Exception as e:\n",
    "    print(f\"An unexpected error occurred: {e}\")"
   ]
  },
  {
   "cell_type": "code",
   "execution_count": null,
   "id": "2b11f6d5",
   "metadata": {},
   "outputs": [],
   "source": []
  }
 ],
 "metadata": {
  "kernelspec": {
   "display_name": "Python 3",
   "language": "python",
   "name": "python3"
  },
  "language_info": {
   "codemirror_mode": {
    "name": "ipython",
    "version": 3
   },
   "file_extension": ".py",
   "mimetype": "text/x-python",
   "name": "python",
   "nbconvert_exporter": "python",
   "pygments_lexer": "ipython3",
   "version": "3.9.6"
  }
 },
 "nbformat": 4,
 "nbformat_minor": 5
}
