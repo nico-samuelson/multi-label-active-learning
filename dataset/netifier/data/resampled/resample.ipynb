{
 "cells": [
  {
   "cell_type": "code",
   "execution_count": 1,
   "metadata": {
    "execution": {
     "iopub.execute_input": "2025-05-06T11:05:58.734893Z",
     "iopub.status.busy": "2025-05-06T11:05:58.734571Z",
     "iopub.status.idle": "2025-05-06T11:06:33.236347Z",
     "shell.execute_reply": "2025-05-06T11:06:33.235297Z",
     "shell.execute_reply.started": "2025-05-06T11:05:58.734860Z"
    },
    "trusted": true
   },
   "outputs": [],
   "source": [
    "import numpy as np\n",
    "import pandas as pd\n",
    "import matplotlib.pyplot as plt\n",
    "import random\n",
    "import torch\n",
    "import re\n",
    "from googletrans import Translator, LANGUAGES"
   ]
  },
  {
   "cell_type": "code",
   "execution_count": 2,
   "metadata": {
    "execution": {
     "iopub.execute_input": "2025-05-06T11:06:33.238855Z",
     "iopub.status.busy": "2025-05-06T11:06:33.238068Z",
     "iopub.status.idle": "2025-05-06T11:06:33.255242Z",
     "shell.execute_reply": "2025-05-06T11:06:33.254213Z",
     "shell.execute_reply.started": "2025-05-06T11:06:33.238817Z"
    },
    "trusted": true
   },
   "outputs": [],
   "source": [
    "def set_seed(seed):\n",
    "    random.seed(seed)\n",
    "    np.random.seed(seed)\n",
    "    torch.manual_seed(seed)\n",
    "    torch.cuda.manual_seed(seed)\n",
    "    torch.cuda.manual_seed_all(seed)\n",
    "    torch.backends.cudnn.deterministic=True\n",
    "    torch.backends.cudnn.benchmark=False\n",
    "\n",
    "set_seed(1)"
   ]
  },
  {
   "cell_type": "code",
   "execution_count": 3,
   "metadata": {},
   "outputs": [],
   "source": [
    "def count_label_occurences(df, labels, subclasses=None):\n",
    "    if subclasses:\n",
    "        count = {label: {subclass: 0 for subclass in subclasses} for label in labels}\n",
    "    else:\n",
    "        count = {label: 0 for label in labels}\n",
    "\n",
    "    for i in range(df.shape[0]):\n",
    "        data = df.iloc[i]\n",
    "        for label in labels:\n",
    "            if subclasses:\n",
    "                count[label][data[label]] += 1\n",
    "            elif data[label] == 1:\n",
    "                count[label] += 1\n",
    "\n",
    "    return count"
   ]
  },
  {
   "cell_type": "code",
   "execution_count": 4,
   "metadata": {},
   "outputs": [],
   "source": [
    "def verify_imbalance_ratio(y):\n",
    "    \"\"\"\n",
    "    Verify and print the imbalance ratio for each label\n",
    "    \n",
    "    args\n",
    "    y: pandas.DataFrame, target vector dataframe\n",
    "    \n",
    "    return\n",
    "    imbalance_ratios: dict, imbalance ratio for each label\n",
    "    mean_ratio: float, mean imbalance ratio across all labels\n",
    "    \"\"\"\n",
    "    print(\"Imbalance ratios:\")\n",
    "    imbalance_ratios = {}\n",
    "    finite_ratios = []\n",
    "    \n",
    "    for col in y.columns:\n",
    "        counts = y[col].value_counts()\n",
    "        # If the label has both 0 and 1\n",
    "        if 0 in counts.index and 1 in counts.index:\n",
    "            ratio = counts[0] / counts[1]\n",
    "            imbalance_ratios[col] = ratio\n",
    "            finite_ratios.append(ratio)\n",
    "            print(f\"{col}: {ratio:.2f}\")\n",
    "        else:\n",
    "            if 1 not in counts.index:\n",
    "                print(f\"{col}: No minority samples (ratio = inf)\")\n",
    "                imbalance_ratios[col] = np.inf\n",
    "            else:\n",
    "                print(f\"{col}: No majority samples (ratio = 0)\")\n",
    "                imbalance_ratios[col] = 0\n",
    "                finite_ratios.append(0)\n",
    "    \n",
    "    # Calculate mean of finite ratios\n",
    "    if finite_ratios:\n",
    "        mean_ratio = np.mean(finite_ratios)\n",
    "        print(f\"Mean imbalance ratio: {mean_ratio:.2f}\")\n",
    "    else:\n",
    "        mean_ratio = np.inf\n",
    "        print(\"Mean imbalance ratio: inf (no finite ratios)\")\n",
    "    \n",
    "    return imbalance_ratios, mean_ratio"
   ]
  },
  {
   "cell_type": "code",
   "execution_count": 5,
   "metadata": {},
   "outputs": [],
   "source": [
    "def plot_data(label_count):\n",
    "    # Plot configuration\n",
    "    x = np.arange(0,4)\n",
    "\n",
    "    fig, ax = plt.subplots(figsize=(12, 6))\n",
    "\n",
    "    rects = ax.bar(x, label_count.values())\n",
    "    ax.bar_label(rects, padding=4)\n",
    "\n",
    "    # Customization\n",
    "    ax.set_xlabel('Categories')\n",
    "    ax.set_ylabel('Counts')\n",
    "    ax.set_title('Netifier')\n",
    "    ax.set_xticks(x)\n",
    "    ax.set_xticklabels(['pornografi', 'sara', 'radikalisme', 'pencemaran_nama_baik'])\n",
    "\n",
    "    # Show the chart\n",
    "    plt.show()"
   ]
  },
  {
   "cell_type": "code",
   "execution_count": 6,
   "metadata": {},
   "outputs": [],
   "source": [
    "async def back_translate_async(texts, target_lang='en', original_lang='id'):\n",
    "    \"\"\"\n",
    "    Performs back-translation for batch of texts.\n",
    "    \"\"\"\n",
    "    async with Translator() as translator:\n",
    "        translated_obj = await translator.translate(texts, dest=target_lang, src=original_lang)\n",
    "        translated_text = [trans.text for trans in translated_obj]\n",
    "\n",
    "        back_translated_obj = await translator.translate(translated_text, dest=original_lang, src=target_lang)\n",
    "        return [trans.text.lower().strip() for trans in back_translated_obj]"
   ]
  },
  {
   "cell_type": "code",
   "execution_count": 7,
   "metadata": {},
   "outputs": [
    {
     "name": "stdout",
     "output_type": "stream",
     "text": [
      "Index(['pornografi', 'sara', 'radikalisme', 'pencemaran_nama_baik'], dtype='object')\n",
      "{'pornografi': 1747, 'sara': 1238, 'radikalisme': 1276, 'pencemaran_nama_baik': 2425}\n"
     ]
    },
    {
     "data": {
      "image/png": "[encoded data removed]",
      "text/plain": [
       "<Figure size 1200x600 with 1 Axes>"
      ]
     },
     "metadata": {},
     "output_type": "display_data"
    }
   ],
   "source": [
    "train_data = pd.read_csv('../processed/processed_train.csv', encoding='latin-1')\n",
    "val_data = pd.read_csv('../processed/processed_test.csv', encoding='latin-1')\n",
    "\n",
    "data = pd.concat([train_data, val_data], axis=0)\n",
    "X = data[\"processed_text\"]\n",
    "y = data[data.columns[2:6]]\n",
    "\n",
    "label_columns = data.columns[2:6]\n",
    "print(label_columns)\n",
    "\n",
    "label_count = count_label_occurences(data, label_columns)\n",
    "print(label_count)\n",
    "\n",
    "plot_data(label_count)"
   ]
  },
  {
   "cell_type": "markdown",
   "metadata": {},
   "source": [
    "# Undersampling"
   ]
  },
  {
   "cell_type": "code",
   "execution_count": 20,
   "metadata": {},
   "outputs": [],
   "source": [
    "data = pd.read_csv('../full_data.csv', encoding='latin-1')\n",
    "# data.rename(columns={'processed_text': 'Tweet'}, inplace=True)\n",
    "data.drop(columns=['source', 'original_text'], inplace=True)\n",
    "\n",
    "column = ['processed_text', 'pornografi', 'sara', 'radikalisme', 'pencemaran_nama_baik']\n",
    "data = data[column]"
   ]
  },
  {
   "cell_type": "code",
   "execution_count": 21,
   "metadata": {},
   "outputs": [
    {
     "name": "stdout",
     "output_type": "stream",
     "text": [
      "pornografi: (471, 5)\n"
     ]
    }
   ],
   "source": [
    "# Downsample Pornografi and Pencemaran Nama Baik\n",
    "pornografi_mask = (\n",
    "    (data['pornografi'] == 1) &\n",
    "    (data['sara'] == 0) &\n",
    "    (data['radikalisme'] == 0) &\n",
    "    (data['pencemaran_nama_baik'] == 1)\n",
    ")\n",
    "pornografi = data[pornografi_mask]\n",
    "print(\"pornografi:\", pornografi.shape)\n",
    "pornografi_sampled = pornografi.sample(n=200, random_state=42)\n",
    "non_pornografi = data[~pornografi_mask]\n",
    "data = pd.concat([non_pornografi, pornografi_sampled], axis=0).reset_index(drop=True)"
   ]
  },
  {
   "cell_type": "code",
   "execution_count": 22,
   "metadata": {},
   "outputs": [
    {
     "name": "stdout",
     "output_type": "stream",
     "text": [
      "pnb: (108, 5)\n"
     ]
    }
   ],
   "source": [
    "# Downsample Radikalisme and Pencemaran Nama Baik\n",
    "radikalisme_pnb_mask = (\n",
    "    (data['pornografi'] == 0) &\n",
    "    (data['sara'] == 0) &\n",
    "    (data['radikalisme'] == 1) &\n",
    "    (data['pencemaran_nama_baik'] == 1)\n",
    ")\n",
    "radikalisme_pnb = data[radikalisme_pnb_mask]\n",
    "print(\"pnb:\", radikalisme_pnb.shape)\n",
    "radikalisme_pnb_sampled = radikalisme_pnb.sample(n=70, random_state=42)\n",
    "non_radikalisme_pnb = data[~radikalisme_pnb_mask]\n",
    "data = pd.concat([non_radikalisme_pnb, radikalisme_pnb_sampled], axis=0).reset_index(drop=True)"
   ]
  },
  {
   "cell_type": "code",
   "execution_count": 23,
   "metadata": {},
   "outputs": [
    {
     "name": "stdout",
     "output_type": "stream",
     "text": [
      "pnb: (855, 5)\n"
     ]
    }
   ],
   "source": [
    "# Downsample Pencemaran Nama Baik\n",
    "pnb_mask = (\n",
    "    (data['pornografi'] == 0) &\n",
    "    (data['sara'] == 0) &\n",
    "    (data['radikalisme'] == 0) &\n",
    "    (data['pencemaran_nama_baik'] == 1)\n",
    ")\n",
    "pnb = data[pnb_mask]\n",
    "print(\"pnb:\", pnb.shape)\n",
    "pnb_sampled = pnb.sample(n=300, random_state=42)\n",
    "non_pnb = data[~pnb_mask]\n",
    "data = pd.concat([non_pnb, pnb_sampled], axis=0).reset_index(drop=True)"
   ]
  },
  {
   "cell_type": "code",
   "execution_count": 24,
   "metadata": {},
   "outputs": [
    {
     "name": "stdout",
     "output_type": "stream",
     "text": [
      "pnb: (3412, 5)\n"
     ]
    }
   ],
   "source": [
    "# Downsample Negative Samples\n",
    "pnb_mask = (\n",
    "    (data['pornografi'] == 0) &\n",
    "    (data['sara'] == 0) &\n",
    "    (data['radikalisme'] == 0) &\n",
    "    (data['pencemaran_nama_baik'] == 0)\n",
    ")\n",
    "pnb = data[pnb_mask]\n",
    "print(\"pnb:\", pnb.shape)\n",
    "pnb_sampled = pnb.sample(n=1561, random_state=42)\n",
    "non_pnb = data[~pnb_mask]\n",
    "data = pd.concat([non_pnb, pnb_sampled], axis=0).reset_index(drop=True)"
   ]
  },
  {
   "cell_type": "code",
   "execution_count": 26,
   "metadata": {},
   "outputs": [
    {
     "name": "stdout",
     "output_type": "stream",
     "text": [
      "Oversampling SARA...\n",
      "(166, 5)\n"
     ]
    }
   ],
   "source": [
    "print(\"Oversampling SARA...\")\n",
    "sara = data[\n",
    "    (data['pornografi'] == 0) &\n",
    "    (data['sara'] == 1) &\n",
    "    (data['radikalisme'] == 0) &\n",
    "    (data['pencemaran_nama_baik'] == 0)\n",
    "]\n",
    "print(sara.shape)\n",
    "translated = await back_translate_async(sara[\"processed_text\"].values.tolist(), target_lang='en', original_lang='id')\n",
    "\n",
    "for i in range(len(translated)):\n",
    "    sara[\"processed_text\"].values[i] = translated[i]"
   ]
  },
  {
   "cell_type": "code",
   "execution_count": 27,
   "metadata": {},
   "outputs": [
    {
     "name": "stdout",
     "output_type": "stream",
     "text": [
      "Oversampling Radikalisme...\n",
      "(466, 5)\n"
     ]
    }
   ],
   "source": [
    "print(\"Oversampling Radikalisme...\")\n",
    "radikalisme = data[\n",
    "    (data['pornografi'] == 0) &\n",
    "    (data['sara'] == 0) &\n",
    "    (data['radikalisme'] == 1) &\n",
    "    (data['pencemaran_nama_baik'] == 0)\n",
    "]\n",
    "print(radikalisme.shape)\n",
    "radikalisme = radikalisme.sample(n=323, random_state=42)\n",
    "translated = await back_translate_async(radikalisme[\"processed_text\"].values.tolist(), target_lang='en', original_lang='id')\n",
    "\n",
    "for i in range(len(translated)):\n",
    "    radikalisme[\"processed_text\"].values[i] = translated[i]"
   ]
  },
  {
   "cell_type": "code",
   "execution_count": 28,
   "metadata": {},
   "outputs": [
    {
     "name": "stdout",
     "output_type": "stream",
     "text": [
      "Oversampling Pornografi...\n",
      "(1212, 5)\n"
     ]
    }
   ],
   "source": [
    "print(\"Oversampling Pornografi...\")\n",
    "pornografi = data[\n",
    "    (data['pornografi'] == 1) &\n",
    "    (data['sara'] == 0) &\n",
    "    (data['radikalisme'] == 0) &\n",
    "    (data['pencemaran_nama_baik'] == 0)\n",
    "]\n",
    "print(pornografi.shape)\n",
    "pornografi = pornografi.sample(n=85, random_state=42)\n",
    "translated = await back_translate_async(pornografi[\"processed_text\"].values.tolist(), target_lang='en', original_lang='id')\n",
    "\n",
    "for i in range(len(translated)):\n",
    "    pornografi[\"processed_text\"].values[i] = translated[i]"
   ]
  },
  {
   "cell_type": "code",
   "execution_count": null,
   "metadata": {},
   "outputs": [],
   "source": [
    "data = pd.concat([data, sara, radikalisme, pornografi], axis=0).reset_index(drop=True)\n",
    "data = pd.concat([data, sara], axis=0).reset_index(drop=True)"
   ]
  },
  {
   "cell_type": "code",
   "execution_count": 32,
   "metadata": {},
   "outputs": [
    {
     "name": "stdout",
     "output_type": "stream",
     "text": [
      "After: (5798, 5)\n",
      "Index(['pornografi', 'sara', 'radikalisme', 'pencemaran_nama_baik'], dtype='object')\n",
      "{'pornografi': 1561, 'sara': 1570, 'radikalisme': 1561, 'pencemaran_nama_baik': 1561}\n",
      "Imbalance ratios:\n",
      "pornografi: 2.71\n",
      "sara: 2.69\n",
      "radikalisme: 2.71\n",
      "pencemaran_nama_baik: 2.71\n",
      "Mean imbalance ratio: 2.71\n",
      "({'pornografi': 2.7142857142857144, 'sara': 2.6929936305732483, 'radikalisme': 2.7142857142857144, 'pencemaran_nama_baik': 2.7142857142857144}, 2.7089626933575977)\n"
     ]
    },
    {
     "data": {
      "image/png": "[encoded data removed]",
      "text/plain": [
       "<Figure size 1200x600 with 1 Axes>"
      ]
     },
     "metadata": {},
     "output_type": "display_data"
    }
   ],
   "source": [
    "print(\"After:\", data.shape)\n",
    "label_columns = data.columns[1:]\n",
    "print(label_columns)\n",
    "\n",
    "aug_label_count = count_label_occurences(data, label_columns)\n",
    "print(aug_label_count)\n",
    "\n",
    "y = data[data.columns[1:]]\n",
    "print(verify_imbalance_ratio(y))\n",
    "\n",
    "plot_data(aug_label_count)"
   ]
  },
  {
   "cell_type": "code",
   "execution_count": 34,
   "metadata": {},
   "outputs": [],
   "source": [
    "data.to_csv('./undersampled.csv', index=False)"
   ]
  },
  {
   "cell_type": "markdown",
   "metadata": {},
   "source": [
    "# Oversampling"
   ]
  },
  {
   "cell_type": "code",
   "execution_count": 46,
   "metadata": {},
   "outputs": [],
   "source": [
    "data = pd.read_csv('../full_data.csv', encoding='latin-1')\n",
    "# data.rename(columns={'processed_text': 'Tweet'}, inplace=True)\n",
    "data.drop(columns=['source', 'original_text'], inplace=True)\n",
    "\n",
    "column = ['processed_text', 'pornografi', 'sara', 'radikalisme', 'pencemaran_nama_baik']\n",
    "data = data[column]"
   ]
  },
  {
   "cell_type": "code",
   "execution_count": 47,
   "metadata": {},
   "outputs": [
    {
     "name": "stdout",
     "output_type": "stream",
     "text": [
      "Oversampling Pornografi...\n",
      "(1212, 5)\n"
     ]
    }
   ],
   "source": [
    "print(\"Oversampling Pornografi...\")\n",
    "pornografi = data[\n",
    "    (data['pornografi'] == 1) &\n",
    "    (data['sara'] == 0) &\n",
    "    (data['radikalisme'] == 0) &\n",
    "    (data['pencemaran_nama_baik'] == 0)\n",
    "]\n",
    "print(pornografi.shape)\n",
    "pornografi = pornografi.sample(n=678, random_state=42)\n",
    "translated = await back_translate_async(pornografi[\"processed_text\"].values.tolist(), target_lang='en', original_lang='id')\n",
    "\n",
    "for i in range(len(translated)):\n",
    "    pornografi[\"processed_text\"].values[i] = translated[i]"
   ]
  },
  {
   "cell_type": "code",
   "execution_count": 48,
   "metadata": {},
   "outputs": [
    {
     "name": "stdout",
     "output_type": "stream",
     "text": [
      "Oversampling SARA...\n",
      "(166, 5)\n"
     ]
    }
   ],
   "source": [
    "print(\"Oversampling SARA...\")\n",
    "sara = data[\n",
    "    (data['pornografi'] == 0) &\n",
    "    (data['sara'] == 1) &\n",
    "    (data['radikalisme'] == 0) &\n",
    "    (data['pencemaran_nama_baik'] == 0)\n",
    "]\n",
    "print(sara.shape)\n",
    "translated = await back_translate_async(sara[\"processed_text\"].values.tolist(), target_lang='en', original_lang='id')\n",
    "\n",
    "for i in range(len(translated)):\n",
    "    sara[\"processed_text\"].values[i] = translated[i]"
   ]
  },
  {
   "cell_type": "code",
   "execution_count": 49,
   "metadata": {},
   "outputs": [
    {
     "name": "stdout",
     "output_type": "stream",
     "text": [
      "Oversampling Radikalisme...\n",
      "(466, 5)\n"
     ]
    }
   ],
   "source": [
    "print(\"Oversampling Radikalisme...\")\n",
    "radikalisme = data[\n",
    "    (data['pornografi'] == 0) &\n",
    "    (data['sara'] == 0) &\n",
    "    (data['radikalisme'] == 1) &\n",
    "    (data['pencemaran_nama_baik'] == 0)\n",
    "]\n",
    "print(radikalisme.shape)\n",
    "# radikalisme = radikalisme.sample(n=323, random_state=42)\n",
    "translated = await back_translate_async(radikalisme[\"processed_text\"].values.tolist(), target_lang='en', original_lang='id')\n",
    "\n",
    "for i in range(len(translated)):\n",
    "    radikalisme[\"processed_text\"].values[i] = translated[i]"
   ]
  },
  {
   "cell_type": "code",
   "execution_count": 50,
   "metadata": {},
   "outputs": [],
   "source": [
    "add_rad = data[\n",
    "    (data['pornografi'] == 0) &\n",
    "    (data['sara'] == 0) &\n",
    "    (data['radikalisme'] == 1) &\n",
    "    (data['pencemaran_nama_baik'] == 0)\n",
    "]\n",
    "add_rad = add_rad.sample(n=217, random_state=42)\n",
    "\n",
    "ori_sara = data[\n",
    "    (data['pornografi'] == 0) &\n",
    "    (data['sara'] == 1) &\n",
    "    (data['radikalisme'] == 0) &\n",
    "    (data['pencemaran_nama_baik'] == 0)\n",
    "]\n",
    "\n",
    "data = pd.concat([data, pornografi], axis=0).reset_index(drop=True)\n",
    "data = pd.concat([data, add_rad], axis=0).reset_index(drop=True)\n",
    "\n",
    "# Duplicate original data\n",
    "for i in range(3):\n",
    "    if i == 2:\n",
    "        ori_sara = ori_sara.sample(n=25, random_state=42)\n",
    "    data = pd.concat([data, ori_sara], axis=0).reset_index(drop=True)\n",
    "    \n",
    "# Duplicate back-translated data\n",
    "for i in range(5):\n",
    "    if i < 2:\n",
    "        data = pd.concat([data, radikalisme], axis=0).reset_index(drop=True)\n",
    "    data = pd.concat([data, sara], axis=0).reset_index(drop=True)"
   ]
  },
  {
   "cell_type": "code",
   "execution_count": 51,
   "metadata": {},
   "outputs": [
    {
     "name": "stdout",
     "output_type": "stream",
     "text": [
      "negative: (3412, 5)\n"
     ]
    }
   ],
   "source": [
    "# Downsample Negative Samples\n",
    "negative_mask = (\n",
    "    (data['pornografi'] == 0) &\n",
    "    (data['sara'] == 0) &\n",
    "    (data['radikalisme'] == 0) &\n",
    "    (data['pencemaran_nama_baik'] == 0)\n",
    ")\n",
    "negative = data[negative_mask]\n",
    "print(\"negative:\", negative.shape)\n",
    "negative_sampled = negative.sample(n=2425, random_state=42)\n",
    "non_negative = data[~negative_mask]\n",
    "data = pd.concat([non_negative, negative_sampled], axis=0).reset_index(drop=True)"
   ]
  },
  {
   "cell_type": "code",
   "execution_count": 52,
   "metadata": {},
   "outputs": [
    {
     "name": "stdout",
     "output_type": "stream",
     "text": [
      "After: (9800, 5)\n",
      "Index(['pornografi', 'sara', 'radikalisme', 'pencemaran_nama_baik'], dtype='object')\n",
      "{'pornografi': 2425, 'sara': 2425, 'radikalisme': 2425, 'pencemaran_nama_baik': 2425}\n",
      "Imbalance ratios:\n",
      "pornografi: 3.04\n",
      "sara: 3.04\n",
      "radikalisme: 3.04\n",
      "pencemaran_nama_baik: 3.04\n",
      "Mean imbalance ratio: 3.04\n",
      "({'pornografi': 3.0412371134020617, 'sara': 3.0412371134020617, 'radikalisme': 3.0412371134020617, 'pencemaran_nama_baik': 3.0412371134020617}, 3.0412371134020617)\n"
     ]
    },
    {
     "data": {
      "image/png": "[encoded data removed]",
      "text/plain": [
       "<Figure size 1200x600 with 1 Axes>"
      ]
     },
     "metadata": {},
     "output_type": "display_data"
    }
   ],
   "source": [
    "print(\"After:\", data.shape)\n",
    "label_columns = data.columns[1:]\n",
    "print(label_columns)\n",
    "\n",
    "aug_label_count = count_label_occurences(data, label_columns)\n",
    "print(aug_label_count)\n",
    "\n",
    "y = data[data.columns[1:]]\n",
    "print(verify_imbalance_ratio(y))\n",
    "\n",
    "plot_data(aug_label_count)"
   ]
  },
  {
   "cell_type": "code",
   "execution_count": 53,
   "metadata": {},
   "outputs": [],
   "source": [
    "data.to_csv('./oversampled.csv', index=False)"
   ]
  },
  {
   "cell_type": "code",
   "execution_count": null,
   "metadata": {},
   "outputs": [],
   "source": []
  }
 ],
 "metadata": {
  "kaggle": {
   "accelerator": "none",
   "dataSources": [
    {
     "datasetId": 6078649,
     "sourceId": 9896348,
     "sourceType": "datasetVersion"
    },
    {
     "datasetId": 6473829,
     "sourceId": 10457689,
     "sourceType": "datasetVersion"
    }
   ],
   "dockerImageVersionId": 31012,
   "isGpuEnabled": false,
   "isInternetEnabled": true,
   "language": "python",
   "sourceType": "notebook"
  },
  "kernelspec": {
   "display_name": "Python 3",
   "language": "python",
   "name": "python3"
  },
  "language_info": {
   "codemirror_mode": {
    "name": "ipython",
    "version": 3
   },
   "file_extension": ".py",
   "mimetype": "text/x-python",
   "name": "python",
   "nbconvert_exporter": "python",
   "pygments_lexer": "ipython3",
   "version": "3.9.6"
  }
 },
 "nbformat": 4,
 "nbformat_minor": 4
}
