{
 "cells": [
  {
   "cell_type": "code",
   "execution_count": 1,
   "metadata": {},
   "outputs": [],
   "source": [
    "import pandas as pd"
   ]
  },
  {
   "cell_type": "code",
   "execution_count": 2,
   "metadata": {},
   "outputs": [],
   "source": [
    "def neaten_result(filename):\n",
    "    data = pd.read_csv(f'./{filename}.csv')\n",
    "    aspect_accuracies = data['Aspect Accuracy'][0].replace(\"[\", '').replace(\"]\", '').split(\",\")\n",
    "    aspect_f1_micros = data['Aspect F1 Micro'][0].replace(\"[\", '').replace(\"]\", '').split(\",\")\n",
    "    aspect_f1_macros = data['Aspect F1 Macro'][0].replace(\"[\", '').replace(\"]\", '').split(\",\")\n",
    "    sentiment_accuracies = data['Sentiment Accuracy'][0].replace(\"[\", '').replace(\"]\", '').split(\",\")\n",
    "    sentiment_f1_micros = data['Sentiment F1 Micro'][0].replace(\"[\", '').replace(\"]\", '').split(\",\")\n",
    "    sentiment_f1_macros = data['Sentiment F1 Macro'][0].replace(\"[\", '').replace(\"]\", '').split(\",\")\n",
    "    accuracies = data['Accuracy']\n",
    "    f1_micros = data['F1 Micro']\n",
    "    f1_macros = data['F1 Macro']\n",
    "    sampling_dur = data['Sampling Duration']\n",
    "    data_used = data['Data Used']\n",
    "\n",
    "    new_csv = pd.DataFrame(columns=['Data Used', 'Aspect Accuracy', 'Aspect F1 Micro', 'Aspect F1 Macro', 'Sentiment Accuracy', 'Sentiment F1 Micro', 'Sentiment F1 Macro', 'Accuracy', 'F1 Micro', 'F1 Macro', 'Sampling Duration'])\n",
    "    new_csv['Data Used'] = data_used\n",
    "    new_csv['Aspect Accuracy'] = aspect_accuracies\n",
    "    new_csv['Aspect F1 Micro'] = aspect_f1_micros\n",
    "    new_csv['Aspect F1 Macro'] = aspect_f1_macros\n",
    "    new_csv['Sentiment Accuracy'] = sentiment_accuracies\n",
    "    new_csv['Sentiment F1 Micro'] = sentiment_f1_micros\n",
    "    new_csv['Sentiment F1 Macro'] = sentiment_f1_macros\n",
    "    new_csv['Accuracy'] = accuracies\n",
    "    new_csv['F1 Micro'] = f1_micros\n",
    "    new_csv['F1 Macro'] = f1_macros\n",
    "    new_csv['Sampling Duration'] = sampling_dur\n",
    "\n",
    "    new_csv.to_csv(f'./neaten/{filename}.csv', index=False)"
   ]
  },
  {
   "cell_type": "code",
   "execution_count": 3,
   "metadata": {},
   "outputs": [],
   "source": [
    "methods = ['lc', 'mc', 'kmeans', 'coreset']\n",
    "\n",
    "for method in methods:\n",
    "    for i in range(1,6):\n",
    "        filename = f'casa-{method}-{i}-results'\n",
    "        neaten_result(filename)"
   ]
  },
  {
   "cell_type": "code",
   "execution_count": null,
   "metadata": {},
   "outputs": [],
   "source": []
  }
 ],
 "metadata": {
  "kernelspec": {
   "display_name": "Python 3",
   "language": "python",
   "name": "python3"
  },
  "language_info": {
   "codemirror_mode": {
    "name": "ipython",
    "version": 3
   },
   "file_extension": ".py",
   "mimetype": "text/x-python",
   "name": "python",
   "nbconvert_exporter": "python",
   "pygments_lexer": "ipython3",
   "version": "3.9.6"
  }
 },
 "nbformat": 4,
 "nbformat_minor": 2
}
