{
 "cells": [
  {
   "cell_type": "code",
   "execution_count": 1,
   "metadata": {},
   "outputs": [],
   "source": [
    "import re\n",
    "import numpy as np\n",
    "import pandas as pd\n",
    "from sklearn.model_selection import train_test_split"
   ]
  },
  {
   "cell_type": "code",
   "execution_count": 2,
   "metadata": {},
   "outputs": [],
   "source": [
    "train_data = pd.read_csv('../../../../dataset/CASA/train_preprocess.csv', encoding='latin-1')\n",
    "val_data = pd.read_csv('../../../../dataset/CASA/valid_preprocess.csv', encoding='latin-1')\n",
    "test_data = pd.read_csv('../../../../dataset/CASA/test_preprocess.csv', encoding='latin-1')\n",
    "\n",
    "data = pd.concat([train_data, val_data, test_data], ignore_index=True)"
   ]
  },
  {
   "cell_type": "code",
   "execution_count": 3,
   "metadata": {},
   "outputs": [
    {
     "name": "stdout",
     "output_type": "stream",
     "text": [
      "(864,) (864, 6)\n",
      "(216,) (216, 6)\n",
      "['yang saya enggak suka dari terios itu kaki-kaki nya yang kurang kuat dan berisik sekali'\n",
      " 'yang saya suka dari avanza itu volume nya yang besar, anak-anak bisa bebas bersantai di dalam mobil'\n",
      " 'yaudah gue enggak ragu ambil Calya ini buat harian']\n",
      "(864,) (864, 6)\n",
      "['yang saya enggak suka dari terios itu kaki-kaki nya yang kurang kuat dan berisik sekali'\n",
      " 'yang saya suka dari avanza itu volume nya yang besar, anak-anak bisa bebas bersantai di dalam mobil'\n",
      " 'yaudah gue enggak ragu ambil Calya ini buat harian']\n"
     ]
    }
   ],
   "source": [
    "train_data, val_data = train_test_split(data, test_size=0.2, random_state=42, shuffle=False)\n",
    "train_data.sort_values(by=['sentence'], inplace=True)\n",
    "\n",
    "train_labels = train_data.columns[1:]\n",
    "val_labels = val_data.columns[1:]\n",
    "\n",
    "# Extract features and labels for training and validation\n",
    "X_train = train_data['sentence'].values\n",
    "y_train = train_data[train_labels].values\n",
    "X_val = val_data['sentence'].values\n",
    "y_val = val_data[val_labels].values\n",
    "\n",
    "print(X_train.shape, y_train.shape)\n",
    "print(X_val.shape, y_val.shape)\n",
    "\n",
    "print(X_train[-3:])\n",
    "\n",
    "acquired_data = pd.read_csv('../acquired_data/casa-besra-1-data-864.csv')\n",
    "acquired_data.sort_values(by=['processed_text'], inplace=True)\n",
    "\n",
    "acq_X_train = acquired_data['processed_text'].values\n",
    "acq_y_train = acquired_data[acquired_data.columns[1:]].values\n",
    "\n",
    "print(acq_X_train.shape, acq_y_train.shape)\n",
    "print(acq_X_train[-3:])"
   ]
  },
  {
   "cell_type": "code",
   "execution_count": 4,
   "metadata": {},
   "outputs": [],
   "source": [
    "def verify(ori_x, acquired_x):\n",
    "    ori_x_sorted = np.sort(ori_x)\n",
    "    acquired_x_sorted = np.sort(acquired_x)\n",
    "\n",
    "    if np.array_equal(ori_x_sorted, acquired_x_sorted):\n",
    "        print(\"ori_x and acquired_x contain the same elements (ignoring order).\")\n",
    "    else:\n",
    "        print(\"ori_x and acquired_x have different elements.\")\n",
    "\n",
    "    set_ori_x = set(ori_x)\n",
    "    set_acquired_x = set(acquired_x)\n",
    "\n",
    "    print(\"Elements in ori_x but not in acquired_x:\", len(set_ori_x - set_acquired_x))\n",
    "    print(\"Elements in acquired_x but not in ori_x:\", len(set_acquired_x - set_ori_x))\n",
    "\n",
    "    diff_indices = np.where(ori_x != acquired_x)[0]  # Get indices where elements differ\n",
    "    print(\"Mismatched indices:\", diff_indices)\n",
    "    print(\"ori_x mismatches:\", ori_x[diff_indices])"
   ]
  },
  {
   "cell_type": "code",
   "execution_count": 5,
   "metadata": {},
   "outputs": [
    {
     "name": "stdout",
     "output_type": "stream",
     "text": [
      "ori_x and acquired_x contain the same elements (ignoring order).\n",
      "Elements in ori_x but not in acquired_x: 0\n",
      "Elements in acquired_x but not in ori_x: 0\n",
      "Mismatched indices: []\n",
      "ori_x mismatches: []\n"
     ]
    }
   ],
   "source": [
    "verify(X_train, acq_X_train)"
   ]
  },
  {
   "cell_type": "code",
   "execution_count": null,
   "metadata": {},
   "outputs": [],
   "source": []
  }
 ],
 "metadata": {
  "kernelspec": {
   "display_name": "Python 3",
   "language": "python",
   "name": "python3"
  },
  "language_info": {
   "codemirror_mode": {
    "name": "ipython",
    "version": 3
   },
   "file_extension": ".py",
   "mimetype": "text/x-python",
   "name": "python",
   "nbconvert_exporter": "python",
   "pygments_lexer": "ipython3",
   "version": "3.9.6"
  }
 },
 "nbformat": 4,
 "nbformat_minor": 2
}
