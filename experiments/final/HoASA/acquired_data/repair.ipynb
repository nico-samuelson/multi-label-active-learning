{
 "cells": [
  {
   "cell_type": "code",
   "execution_count": 84,
   "metadata": {},
   "outputs": [],
   "source": [
    "import pandas as pd"
   ]
  },
  {
   "cell_type": "code",
   "execution_count": 85,
   "metadata": {},
   "outputs": [],
   "source": [
    "def repair_data(filepath):\n",
    "    train_data = pd.read_csv('../../../../dataset/HoASA/train_preprocess.csv', encoding='latin-1')\n",
    "    val_data = pd.read_csv('../../../../dataset/HoASA/valid_preprocess.csv', encoding='latin-1')\n",
    "    test_data = pd.read_csv('../../../../dataset/HoASA/test_preprocess.csv', encoding='latin-1')\n",
    "\n",
    "    data = pd.concat([train_data, val_data, test_data], ignore_index=True)\n",
    "    acquired_data = pd.read_csv(f'./{filepath}.csv', encoding='latin-1')\n",
    "    acquired_data = acquired_data.drop(['fuel', 'machine', 'others', 'part', 'price', 'service'], axis=1)\n",
    "\n",
    "\n",
    "    for idx, row in acquired_data.iterrows():\n",
    "        matched = data[data['review'] == row['processed_text']]\n",
    "\n",
    "        for column in matched.columns[1:]:\n",
    "            acquired_data.loc[idx, column] = matched[column].values[0] if not matched.empty else None\n",
    "    \n",
    "    acquired_data.head()\n",
    "\n",
    "    acquired_data.to_csv(f'./repaired/{filepath}.csv', index=False, encoding='latin-1')\n"
   ]
  },
  {
   "cell_type": "code",
   "execution_count": 88,
   "metadata": {},
   "outputs": [],
   "source": [
    "repaired = repair_data('hoasa-kmeans-3-data-2283')"
   ]
  },
  {
   "cell_type": "code",
   "execution_count": null,
   "metadata": {},
   "outputs": [],
   "source": []
  }
 ],
 "metadata": {
  "kernelspec": {
   "display_name": "Python 3",
   "language": "python",
   "name": "python3"
  },
  "language_info": {
   "codemirror_mode": {
    "name": "ipython",
    "version": 3
   },
   "file_extension": ".py",
   "mimetype": "text/x-python",
   "name": "python",
   "nbconvert_exporter": "python",
   "pygments_lexer": "ipython3",
   "version": "3.9.6"
  }
 },
 "nbformat": 4,
 "nbformat_minor": 2
}
