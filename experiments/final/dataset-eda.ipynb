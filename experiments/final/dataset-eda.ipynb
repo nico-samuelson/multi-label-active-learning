{
 "cells": [
  {
   "cell_type": "code",
   "execution_count": 1,
   "metadata": {
    "_cell_guid": "b1076dfc-b9ad-4769-8c92-a6c4dae69d19",
    "_uuid": "8f2839f25d086af736a60e9eeb907d3b93b6e0e5",
    "execution": {
     "iopub.execute_input": "2024-11-30T16:56:26.852626Z",
     "iopub.status.busy": "2024-11-30T16:56:26.851860Z",
     "iopub.status.idle": "2024-11-30T16:56:26.859508Z",
     "shell.execute_reply": "2024-11-30T16:56:26.857866Z",
     "shell.execute_reply.started": "2024-11-30T16:56:26.852566Z"
    },
    "trusted": true
   },
   "outputs": [],
   "source": [
    "import numpy as np\n",
    "import pandas as pd\n",
    "import matplotlib.pyplot as plt\n",
    "import torch\n",
    "from transformers import BertTokenizer"
   ]
  },
  {
   "cell_type": "code",
   "execution_count": 2,
   "metadata": {
    "execution": {
     "iopub.execute_input": "2024-11-30T16:57:09.983739Z",
     "iopub.status.busy": "2024-11-30T16:57:09.983270Z",
     "iopub.status.idle": "2024-11-30T16:57:09.990957Z",
     "shell.execute_reply": "2024-11-30T16:57:09.989569Z",
     "shell.execute_reply.started": "2024-11-30T16:57:09.983698Z"
    },
    "trusted": true
   },
   "outputs": [],
   "source": [
    "def count_label_occurences(df, labels, subclasses=None):\n",
    "    if subclasses:\n",
    "        count = {label: {subclass: 0 for subclass in subclasses} for label in labels}\n",
    "    else:\n",
    "        count = {label: 0 for label in labels}\n",
    "\n",
    "    for i in range(df.shape[0]):\n",
    "        data = df.iloc[i]\n",
    "        for label in labels:\n",
    "            if subclasses:\n",
    "                count[label][data[label]] += 1\n",
    "            elif data[label] == 1:\n",
    "                count[label] += 1\n",
    "\n",
    "    return count"
   ]
  },
  {
   "cell_type": "code",
   "execution_count": 3,
   "metadata": {
    "execution": {
     "iopub.execute_input": "2024-11-30T16:57:10.129449Z",
     "iopub.status.busy": "2024-11-30T16:57:10.128223Z",
     "iopub.status.idle": "2024-11-30T16:57:10.136727Z",
     "shell.execute_reply": "2024-11-30T16:57:10.135194Z",
     "shell.execute_reply.started": "2024-11-30T16:57:10.129366Z"
    },
    "trusted": true
   },
   "outputs": [],
   "source": [
    "# Function to calculate imbalance ratio for a column\n",
    "def calculate_imbalance_ratio(column):\n",
    "    value_counts = column.value_counts()\n",
    "    value_counts.drop('neg_pos', inplace=True, errors='ignore')\n",
    "        \n",
    "    max_count = value_counts.max()\n",
    "    min_count = value_counts.min()\n",
    "\n",
    "    # print(min_count)\n",
    "    return max_count / min_count if min_count > 0 else float('inf')"
   ]
  },
  {
   "cell_type": "code",
   "execution_count": 4,
   "metadata": {
    "execution": {
     "iopub.execute_input": "2024-11-30T16:57:10.266044Z",
     "iopub.status.busy": "2024-11-30T16:57:10.265636Z",
     "iopub.status.idle": "2024-11-30T16:57:10.454059Z",
     "shell.execute_reply": "2024-11-30T16:57:10.452529Z",
     "shell.execute_reply.started": "2024-11-30T16:57:10.266008Z"
    },
    "trusted": true
   },
   "outputs": [
    {
     "name": "stderr",
     "output_type": "stream",
     "text": [
      "W0508 20:30:52.351022 70566 torch/distributed/elastic/multiprocessing/redirects.py:29] NOTE: Redirects are currently not supported in Windows or MacOs.\n"
     ]
    }
   ],
   "source": [
    "tokenizer = BertTokenizer.from_pretrained('indobenchmark/indobert-base-p1')\n",
    "device = torch.device(\"cuda\" if torch.cuda.is_available() else \"cpu\")\n",
    "\n",
    "def sequence_length_statistics(texts):\n",
    "    # Tokenize each text and calculate their lengths\n",
    "    token_lengths = [len(tokenizer.tokenize(text)) for text in texts]\n",
    "    \n",
    "    # Calculate the average length\n",
    "    average_length = sum(token_lengths) / len(token_lengths)\n",
    "    max_length = max(token_lengths)\n",
    "    \n",
    "    print(\"Average length of tokenized text:\", average_length)\n",
    "    print(\"Max token length:\", max_length)\n",
    "\n",
    "    counts, bins = np.histogram(token_lengths)\n",
    "    plt.stairs(counts, bins)\n",
    "    plt.show()"
   ]
  },
  {
   "cell_type": "markdown",
   "metadata": {},
   "source": [
    "# CASA"
   ]
  },
  {
   "cell_type": "code",
   "execution_count": 232,
   "metadata": {
    "execution": {
     "iopub.execute_input": "2024-11-30T16:57:10.546322Z",
     "iopub.status.busy": "2024-11-30T16:57:10.545893Z",
     "iopub.status.idle": "2024-11-30T16:57:10.562566Z",
     "shell.execute_reply": "2024-11-30T16:57:10.560712Z",
     "shell.execute_reply.started": "2024-11-30T16:57:10.546282Z"
    },
    "trusted": true
   },
   "outputs": [],
   "source": [
    "data = pd.read_csv('/kaggle/input/casa-dataset/CASA-combined.csv')"
   ]
  },
  {
   "cell_type": "code",
   "execution_count": 233,
   "metadata": {
    "execution": {
     "iopub.execute_input": "2024-11-30T16:57:10.690270Z",
     "iopub.status.busy": "2024-11-30T16:57:10.689874Z",
     "iopub.status.idle": "2024-11-30T16:57:10.709006Z",
     "shell.execute_reply": "2024-11-30T16:57:10.707533Z",
     "shell.execute_reply.started": "2024-11-30T16:57:10.690234Z"
    },
    "trusted": true
   },
   "outputs": [
    {
     "data": {
      "text/html": [
       "<div>\n",
       "<style scoped>\n",
       "    .dataframe tbody tr th:only-of-type {\n",
       "        vertical-align: middle;\n",
       "    }\n",
       "\n",
       "    .dataframe tbody tr th {\n",
       "        vertical-align: top;\n",
       "    }\n",
       "\n",
       "    .dataframe thead th {\n",
       "        text-align: right;\n",
       "    }\n",
       "</style>\n",
       "<table border=\"1\" class=\"dataframe\">\n",
       "  <thead>\n",
       "    <tr style=\"text-align: right;\">\n",
       "      <th></th>\n",
       "      <th>sentence</th>\n",
       "      <th>fuel</th>\n",
       "      <th>machine</th>\n",
       "      <th>others</th>\n",
       "      <th>part</th>\n",
       "      <th>price</th>\n",
       "      <th>service</th>\n",
       "    </tr>\n",
       "  </thead>\n",
       "  <tbody>\n",
       "    <tr>\n",
       "      <th>0</th>\n",
       "      <td>Saya memakai Honda Jazz GK5 tahun 2014 ( perta...</td>\n",
       "      <td>neutral</td>\n",
       "      <td>neutral</td>\n",
       "      <td>positive</td>\n",
       "      <td>neutral</td>\n",
       "      <td>neutral</td>\n",
       "      <td>neutral</td>\n",
       "    </tr>\n",
       "    <tr>\n",
       "      <th>1</th>\n",
       "      <td>Avanza kenapa jadi boros bensin begini dah ah....</td>\n",
       "      <td>negative</td>\n",
       "      <td>neutral</td>\n",
       "      <td>neutral</td>\n",
       "      <td>neutral</td>\n",
       "      <td>neutral</td>\n",
       "      <td>neutral</td>\n",
       "    </tr>\n",
       "    <tr>\n",
       "      <th>2</th>\n",
       "      <td>saran ku dan pengalaman ku , mending beli mobi...</td>\n",
       "      <td>positive</td>\n",
       "      <td>positive</td>\n",
       "      <td>neutral</td>\n",
       "      <td>neutral</td>\n",
       "      <td>neutral</td>\n",
       "      <td>neutral</td>\n",
       "    </tr>\n",
       "    <tr>\n",
       "      <th>3</th>\n",
       "      <td>Dari segi harga juga pajero lebih mahal 30 jut...</td>\n",
       "      <td>neutral</td>\n",
       "      <td>neutral</td>\n",
       "      <td>neutral</td>\n",
       "      <td>neutral</td>\n",
       "      <td>positive</td>\n",
       "      <td>neutral</td>\n",
       "    </tr>\n",
       "    <tr>\n",
       "      <th>4</th>\n",
       "      <td>Kalo menurut gw enak pajero si</td>\n",
       "      <td>neutral</td>\n",
       "      <td>neutral</td>\n",
       "      <td>positive</td>\n",
       "      <td>neutral</td>\n",
       "      <td>neutral</td>\n",
       "      <td>neutral</td>\n",
       "    </tr>\n",
       "  </tbody>\n",
       "</table>\n",
       "</div>"
      ],
      "text/plain": [
       "                                            sentence      fuel   machine  \\\n",
       "0  Saya memakai Honda Jazz GK5 tahun 2014 ( perta...   neutral   neutral   \n",
       "1  Avanza kenapa jadi boros bensin begini dah ah....  negative   neutral   \n",
       "2  saran ku dan pengalaman ku , mending beli mobi...  positive  positive   \n",
       "3  Dari segi harga juga pajero lebih mahal 30 jut...   neutral   neutral   \n",
       "4                     Kalo menurut gw enak pajero si   neutral   neutral   \n",
       "\n",
       "     others     part     price  service  \n",
       "0  positive  neutral   neutral  neutral  \n",
       "1   neutral  neutral   neutral  neutral  \n",
       "2   neutral  neutral   neutral  neutral  \n",
       "3   neutral  neutral  positive  neutral  \n",
       "4  positive  neutral   neutral  neutral  "
      ]
     },
     "execution_count": 233,
     "metadata": {},
     "output_type": "execute_result"
    }
   ],
   "source": [
    "data.head()"
   ]
  },
  {
   "cell_type": "code",
   "execution_count": 234,
   "metadata": {
    "execution": {
     "iopub.execute_input": "2024-11-30T16:57:10.899778Z",
     "iopub.status.busy": "2024-11-30T16:57:10.899361Z",
     "iopub.status.idle": "2024-11-30T16:57:10.906639Z",
     "shell.execute_reply": "2024-11-30T16:57:10.905189Z",
     "shell.execute_reply.started": "2024-11-30T16:57:10.899741Z"
    },
    "trusted": true
   },
   "outputs": [
    {
     "name": "stdout",
     "output_type": "stream",
     "text": [
      "Index(['fuel', 'machine', 'others', 'part', 'price', 'service'], dtype='object')\n"
     ]
    }
   ],
   "source": [
    "label_columns = data.columns[1:7]\n",
    "print(label_columns)"
   ]
  },
  {
   "cell_type": "code",
   "execution_count": 235,
   "metadata": {
    "execution": {
     "iopub.execute_input": "2024-11-30T16:57:11.030018Z",
     "iopub.status.busy": "2024-11-30T16:57:11.029511Z",
     "iopub.status.idle": "2024-11-30T16:57:11.114305Z",
     "shell.execute_reply": "2024-11-30T16:57:11.112881Z",
     "shell.execute_reply.started": "2024-11-30T16:57:11.029966Z"
    },
    "trusted": true
   },
   "outputs": [
    {
     "name": "stdout",
     "output_type": "stream",
     "text": [
      "{'fuel': {'positive': 141, 'neutral': 905, 'negative': 34}, 'machine': {'positive': 177, 'neutral': 844, 'negative': 59}, 'others': {'positive': 291, 'neutral': 718, 'negative': 71}, 'part': {'positive': 203, 'neutral': 769, 'negative': 108}, 'price': {'positive': 118, 'neutral': 905, 'negative': 57}, 'service': {'positive': 81, 'neutral': 923, 'negative': 76}}\n"
     ]
    }
   ],
   "source": [
    "label_count = count_label_occurences(data, label_columns, subclasses=['positive', 'neutral', 'negative'])\n",
    "print(label_count)"
   ]
  },
  {
   "cell_type": "code",
   "execution_count": 236,
   "metadata": {
    "execution": {
     "iopub.execute_input": "2024-11-30T16:57:11.210373Z",
     "iopub.status.busy": "2024-11-30T16:57:11.209265Z",
     "iopub.status.idle": "2024-11-30T16:57:11.642880Z",
     "shell.execute_reply": "2024-11-30T16:57:11.641335Z",
     "shell.execute_reply.started": "2024-11-30T16:57:11.210314Z"
    },
    "trusted": true
   },
   "outputs": [
    {
     "data": {
      "image/png": "[encoded data removed]",
      "text/plain": [
       "<Figure size 1200x600 with 1 Axes>"
      ]
     },
     "metadata": {},
     "output_type": "display_data"
    }
   ],
   "source": [
    "# Plot configuration\n",
    "x = np.arange(0, 6)\n",
    "labels = ['fuel', 'machine', 'others', 'part', 'price', 'service']\n",
    "width = 0.25  # Width of each bar\n",
    "multiplier = 0\n",
    "\n",
    "fig, ax = plt.subplots(figsize=(12, 6))\n",
    "\n",
    "counts = {\n",
    "    'negative': [],\n",
    "    'neutral': [],\n",
    "    'positive': [],\n",
    "}\n",
    "\n",
    "for i, label in enumerate(label_count.keys()):\n",
    "    counts['negative'].append(label_count[label]['negative'])\n",
    "    counts['neutral'].append(label_count[label]['neutral'])\n",
    "    counts['positive'].append(label_count[label]['positive'])\n",
    "\n",
    "for attribute, measurement in counts.items():\n",
    "    # print(attribute)\n",
    "    offset = width * multiplier\n",
    "    rects = ax.bar(x + offset, measurement, width, label=attribute)\n",
    "    ax.bar_label(rects, padding=4)\n",
    "    multiplier += 1\n",
    "\n",
    "# Add some text for labels, title and custom x-axis tick labels, etc.\n",
    "ax.set_title('CASA')\n",
    "ax.set_ylabel('Counts')\n",
    "ax.set_xlabel('Aspects')\n",
    "ax.set_xticks(x + width, labels)\n",
    "ax.legend(loc='upper left', ncols=3)\n",
    "ax.set_ylim(0, 1100)\n",
    "\n",
    "# Show the chart\n",
    "plt.show()"
   ]
  },
  {
   "cell_type": "code",
   "execution_count": 237,
   "metadata": {
    "execution": {
     "iopub.execute_input": "2024-11-30T16:57:11.691916Z",
     "iopub.status.busy": "2024-11-30T16:57:11.691344Z",
     "iopub.status.idle": "2024-11-30T16:57:11.711275Z",
     "shell.execute_reply": "2024-11-30T16:57:11.709865Z",
     "shell.execute_reply.started": "2024-11-30T16:57:11.691860Z"
    },
    "trusted": true
   },
   "outputs": [
    {
     "name": "stdout",
     "output_type": "stream",
     "text": [
      "Imbalance Ratios for each column: {'fuel': 26.61764705882353, 'machine': 14.305084745762711, 'others': 10.112676056338028, 'part': 7.12037037037037, 'price': 15.87719298245614, 'service': 12.144736842105264}\n",
      "Mean Imbalance Ratio: 14.362951342642672\n"
     ]
    }
   ],
   "source": [
    "# Specify the columns to analyze\n",
    "columns_to_analyze = ['fuel', 'machine', 'others', 'part', 'price', 'service']\n",
    "\n",
    "# Calculate imbalance ratios for each column\n",
    "imbalance_ratios = {col: calculate_imbalance_ratio(data[col]) for col in columns_to_analyze}\n",
    "\n",
    "# Calculate the mean imbalance ratio\n",
    "mean_imbalance_ratio = sum(imbalance_ratios.values()) / len(imbalance_ratios)\n",
    "\n",
    "# Print the results\n",
    "print(\"Imbalance Ratios for each column:\", imbalance_ratios)\n",
    "print(\"Mean Imbalance Ratio:\", mean_imbalance_ratio)\n"
   ]
  },
  {
   "cell_type": "code",
   "execution_count": 238,
   "metadata": {
    "execution": {
     "iopub.execute_input": "2024-11-30T16:57:12.222584Z",
     "iopub.status.busy": "2024-11-30T16:57:12.222149Z",
     "iopub.status.idle": "2024-11-30T16:57:12.834799Z",
     "shell.execute_reply": "2024-11-30T16:57:12.833775Z",
     "shell.execute_reply.started": "2024-11-30T16:57:12.222546Z"
    },
    "trusted": true
   },
   "outputs": [
    {
     "name": "stdout",
     "output_type": "stream",
     "text": [
      "Average length of tokenized text: 16.11111111111111\n",
      "Max token length: 72\n"
     ]
    },
    {
     "data": {
      "image/png": "[encoded data removed]",
      "text/plain": [
       "<Figure size 640x480 with 1 Axes>"
      ]
     },
     "metadata": {},
     "output_type": "display_data"
    }
   ],
   "source": [
    "sequence_length_statistics(data['sentence'])"
   ]
  },
  {
   "cell_type": "markdown",
   "metadata": {},
   "source": [
    "# HoASA"
   ]
  },
  {
   "cell_type": "code",
   "execution_count": 239,
   "metadata": {
    "execution": {
     "iopub.execute_input": "2024-11-30T16:57:25.779863Z",
     "iopub.status.busy": "2024-11-30T16:57:25.779460Z",
     "iopub.status.idle": "2024-11-30T16:57:25.809822Z",
     "shell.execute_reply": "2024-11-30T16:57:25.808442Z",
     "shell.execute_reply.started": "2024-11-30T16:57:25.779828Z"
    },
    "trusted": true
   },
   "outputs": [
    {
     "name": "stdout",
     "output_type": "stream",
     "text": [
      "(2854, 11)\n"
     ]
    }
   ],
   "source": [
    "train_data = pd.read_csv('/kaggle/input/hoasa-dataset/train_preprocess.csv')\n",
    "val_data = pd.read_csv('/kaggle/input/hoasa-dataset/valid_preprocess.csv')\n",
    "test_data = pd.read_csv('/kaggle/input/hoasa-dataset/test_preprocess.csv')\n",
    "\n",
    "data = pd.concat([train_data, val_data, test_data], axis=0)\n",
    "\n",
    "print(data.shape)"
   ]
  },
  {
   "cell_type": "code",
   "execution_count": 240,
   "metadata": {
    "execution": {
     "iopub.execute_input": "2024-11-30T16:57:26.292200Z",
     "iopub.status.busy": "2024-11-30T16:57:26.291786Z",
     "iopub.status.idle": "2024-11-30T16:57:26.308521Z",
     "shell.execute_reply": "2024-11-30T16:57:26.307114Z",
     "shell.execute_reply.started": "2024-11-30T16:57:26.292162Z"
    },
    "trusted": true
   },
   "outputs": [
    {
     "data": {
      "text/html": [
       "<div>\n",
       "<style scoped>\n",
       "    .dataframe tbody tr th:only-of-type {\n",
       "        vertical-align: middle;\n",
       "    }\n",
       "\n",
       "    .dataframe tbody tr th {\n",
       "        vertical-align: top;\n",
       "    }\n",
       "\n",
       "    .dataframe thead th {\n",
       "        text-align: right;\n",
       "    }\n",
       "</style>\n",
       "<table border=\"1\" class=\"dataframe\">\n",
       "  <thead>\n",
       "    <tr style=\"text-align: right;\">\n",
       "      <th></th>\n",
       "      <th>review</th>\n",
       "      <th>ac</th>\n",
       "      <th>air_panas</th>\n",
       "      <th>bau</th>\n",
       "      <th>general</th>\n",
       "      <th>kebersihan</th>\n",
       "      <th>linen</th>\n",
       "      <th>service</th>\n",
       "      <th>sunrise_meal</th>\n",
       "      <th>tv</th>\n",
       "      <th>wifi</th>\n",
       "    </tr>\n",
       "  </thead>\n",
       "  <tbody>\n",
       "    <tr>\n",
       "      <th>0</th>\n",
       "      <td>kebersihan kurang...</td>\n",
       "      <td>neut</td>\n",
       "      <td>neut</td>\n",
       "      <td>neut</td>\n",
       "      <td>neut</td>\n",
       "      <td>neg</td>\n",
       "      <td>neut</td>\n",
       "      <td>neut</td>\n",
       "      <td>neut</td>\n",
       "      <td>neut</td>\n",
       "      <td>neut</td>\n",
       "    </tr>\n",
       "    <tr>\n",
       "      <th>1</th>\n",
       "      <td>sangat mengecewakan... hotel bad image, kebers...</td>\n",
       "      <td>neut</td>\n",
       "      <td>neut</td>\n",
       "      <td>neut</td>\n",
       "      <td>neut</td>\n",
       "      <td>neg</td>\n",
       "      <td>neut</td>\n",
       "      <td>neut</td>\n",
       "      <td>neut</td>\n",
       "      <td>neut</td>\n",
       "      <td>neut</td>\n",
       "    </tr>\n",
       "    <tr>\n",
       "      <th>2</th>\n",
       "      <td>Tempat nyaman bersih tapi tv terlalu tinggi ti...</td>\n",
       "      <td>neut</td>\n",
       "      <td>neut</td>\n",
       "      <td>neut</td>\n",
       "      <td>neut</td>\n",
       "      <td>pos</td>\n",
       "      <td>neut</td>\n",
       "      <td>neut</td>\n",
       "      <td>neut</td>\n",
       "      <td>neg</td>\n",
       "      <td>neut</td>\n",
       "    </tr>\n",
       "    <tr>\n",
       "      <th>3</th>\n",
       "      <td>semuanya bagus sesuai profile,dan harga promo ...</td>\n",
       "      <td>neut</td>\n",
       "      <td>neg</td>\n",
       "      <td>neut</td>\n",
       "      <td>pos</td>\n",
       "      <td>neut</td>\n",
       "      <td>neut</td>\n",
       "      <td>neut</td>\n",
       "      <td>neut</td>\n",
       "      <td>neut</td>\n",
       "      <td>neut</td>\n",
       "    </tr>\n",
       "    <tr>\n",
       "      <th>4</th>\n",
       "      <td>Tempat tidur sangat keras, bantal besar dan ke...</td>\n",
       "      <td>neg</td>\n",
       "      <td>neg</td>\n",
       "      <td>neut</td>\n",
       "      <td>neut</td>\n",
       "      <td>neut</td>\n",
       "      <td>neg</td>\n",
       "      <td>neut</td>\n",
       "      <td>neut</td>\n",
       "      <td>neut</td>\n",
       "      <td>neut</td>\n",
       "    </tr>\n",
       "  </tbody>\n",
       "</table>\n",
       "</div>"
      ],
      "text/plain": [
       "                                              review    ac air_panas   bau  \\\n",
       "0                               kebersihan kurang...  neut      neut  neut   \n",
       "1  sangat mengecewakan... hotel bad image, kebers...  neut      neut  neut   \n",
       "2  Tempat nyaman bersih tapi tv terlalu tinggi ti...  neut      neut  neut   \n",
       "3  semuanya bagus sesuai profile,dan harga promo ...  neut       neg  neut   \n",
       "4  Tempat tidur sangat keras, bantal besar dan ke...   neg       neg  neut   \n",
       "\n",
       "  general kebersihan linen service sunrise_meal    tv  wifi  \n",
       "0    neut        neg  neut    neut         neut  neut  neut  \n",
       "1    neut        neg  neut    neut         neut  neut  neut  \n",
       "2    neut        pos  neut    neut         neut   neg  neut  \n",
       "3     pos       neut  neut    neut         neut  neut  neut  \n",
       "4    neut       neut   neg    neut         neut  neut  neut  "
      ]
     },
     "execution_count": 240,
     "metadata": {},
     "output_type": "execute_result"
    }
   ],
   "source": [
    "data.head()"
   ]
  },
  {
   "cell_type": "code",
   "execution_count": 241,
   "metadata": {
    "execution": {
     "iopub.execute_input": "2024-11-30T16:57:26.402709Z",
     "iopub.status.busy": "2024-11-30T16:57:26.402293Z",
     "iopub.status.idle": "2024-11-30T16:57:26.409889Z",
     "shell.execute_reply": "2024-11-30T16:57:26.408623Z",
     "shell.execute_reply.started": "2024-11-30T16:57:26.402674Z"
    },
    "trusted": true
   },
   "outputs": [
    {
     "name": "stdout",
     "output_type": "stream",
     "text": [
      "Index(['ac', 'air_panas', 'bau', 'general', 'kebersihan', 'linen', 'service',\n",
      "       'sunrise_meal', 'tv', 'wifi'],\n",
      "      dtype='object')\n"
     ]
    }
   ],
   "source": [
    "label_columns = data.columns[1:11]\n",
    "print(label_columns)"
   ]
  },
  {
   "cell_type": "code",
   "execution_count": 242,
   "metadata": {
    "execution": {
     "iopub.execute_input": "2024-11-30T16:57:26.753062Z",
     "iopub.status.busy": "2024-11-30T16:57:26.752617Z",
     "iopub.status.idle": "2024-11-30T16:57:26.925668Z",
     "shell.execute_reply": "2024-11-30T16:57:26.924478Z",
     "shell.execute_reply.started": "2024-11-30T16:57:26.753025Z"
    },
    "trusted": true
   },
   "outputs": [
    {
     "name": "stdout",
     "output_type": "stream",
     "text": [
      "{'ac': {'pos': 66, 'neut': 2273, 'neg': 514, 'neg_pos': 1}, 'air_panas': {'pos': 36, 'neut': 2397, 'neg': 421, 'neg_pos': 0}, 'bau': {'pos': 14, 'neut': 2402, 'neg': 438, 'neg_pos': 0}, 'general': {'pos': 298, 'neut': 2519, 'neg': 37, 'neg_pos': 0}, 'kebersihan': {'pos': 261, 'neut': 1665, 'neg': 922, 'neg_pos': 6}, 'linen': {'pos': 85, 'neut': 2000, 'neg': 768, 'neg_pos': 1}, 'service': {'pos': 315, 'neut': 2067, 'neg': 471, 'neg_pos': 1}, 'sunrise_meal': {'pos': 92, 'neut': 2633, 'neg': 129, 'neg_pos': 0}, 'tv': {'pos': 19, 'neut': 2586, 'neg': 249, 'neg_pos': 0}, 'wifi': {'pos': 28, 'neut': 2422, 'neg': 404, 'neg_pos': 0}}\n"
     ]
    }
   ],
   "source": [
    "label_count = count_label_occurences(data, label_columns, subclasses=['pos', 'neut', 'neg', 'neg_pos'])\n",
    "print(label_count)"
   ]
  },
  {
   "cell_type": "code",
   "execution_count": 243,
   "metadata": {
    "execution": {
     "iopub.execute_input": "2024-11-30T16:57:27.068331Z",
     "iopub.status.busy": "2024-11-30T16:57:27.067932Z",
     "iopub.status.idle": "2024-11-30T16:57:27.574846Z",
     "shell.execute_reply": "2024-11-30T16:57:27.573590Z",
     "shell.execute_reply.started": "2024-11-30T16:57:27.068298Z"
    },
    "trusted": true
   },
   "outputs": [
    {
     "data": {
      "image/png": "[encoded data removed]",
      "text/plain": [
       "<Figure size 1800x600 with 1 Axes>"
      ]
     },
     "metadata": {},
     "output_type": "display_data"
    }
   ],
   "source": [
    "# Plot configuration\n",
    "x = np.arange(0, 10)\n",
    "labels = ['ac', 'air_panas', 'bau', 'general', 'kebersihan', 'linen', 'service',\n",
    "       'sunrise_meal', 'tv', 'wifi']\n",
    "width = 0.2  # Width of each bar\n",
    "multiplier = 0\n",
    "\n",
    "fig, ax = plt.subplots(figsize=(18, 6))\n",
    "\n",
    "counts = {\n",
    "    'neg': [],\n",
    "    'neut': [],\n",
    "    'pos': [],\n",
    "    'neg_pos': [],\n",
    "}\n",
    "\n",
    "for i, label in enumerate(label_count.keys()):\n",
    "    counts['neg'].append(label_count[label]['neg'])\n",
    "    counts['neg_pos'].append(label_count[label]['neg_pos'])\n",
    "    counts['neut'].append(label_count[label]['neut'])\n",
    "    counts['pos'].append(label_count[label]['pos'])    \n",
    "\n",
    "for attribute, measurement in counts.items():\n",
    "    # print(attribute)\n",
    "    offset = width * multiplier\n",
    "    rects = ax.bar(x + offset, measurement, width, label=attribute)\n",
    "    ax.bar_label(rects, padding=4)\n",
    "    multiplier += 1\n",
    "\n",
    "# Add some text for labels, title and custom x-axis tick labels, etc.\n",
    "ax.set_title('HoASA')\n",
    "ax.set_ylabel('Counts')\n",
    "ax.set_xlabel('Aspects')\n",
    "ax.set_xticks(x + width, labels)\n",
    "ax.legend(loc='upper left', ncols=4)\n",
    "ax.set_ylim(0, 3000)\n",
    "\n",
    "# Show the chart\n",
    "plt.show()"
   ]
  },
  {
   "cell_type": "code",
   "execution_count": 244,
   "metadata": {
    "execution": {
     "iopub.execute_input": "2024-11-30T16:57:27.577000Z",
     "iopub.status.busy": "2024-11-30T16:57:27.576571Z",
     "iopub.status.idle": "2024-11-30T16:57:27.597086Z",
     "shell.execute_reply": "2024-11-30T16:57:27.595693Z",
     "shell.execute_reply.started": "2024-11-30T16:57:27.576966Z"
    },
    "trusted": true
   },
   "outputs": [
    {
     "name": "stdout",
     "output_type": "stream",
     "text": [
      "Imbalance Ratios for each column: {'ac': 34.43939393939394, 'air_panas': 66.58333333333333, 'bau': 171.57142857142858, 'general': 68.08108108108108, 'kebersihan': 6.379310344827586, 'linen': 23.529411764705884, 'service': 6.561904761904762, 'sunrise_meal': 28.619565217391305, 'tv': 136.10526315789474, 'wifi': 86.5}\n",
      "Mean Imbalance Ratio: 62.84\n"
     ]
    }
   ],
   "source": [
    "# Specify the columns to analyze\n",
    "columns_to_analyze = ['ac', 'air_panas', 'bau', 'general', 'kebersihan', 'linen', 'service',\n",
    "       'sunrise_meal', 'tv', 'wifi']\n",
    "\n",
    "# Calculate imbalance ratios for each column\n",
    "imbalance_ratios = {col: calculate_imbalance_ratio(data[col]) for col in columns_to_analyze}\n",
    "\n",
    "# Calculate the mean imbalance ratio\n",
    "mean_imbalance_ratio = (sum(imbalance_ratios.values()) / len(imbalance_ratios)).round(2)\n",
    "\n",
    "# Print the results\n",
    "print(\"Imbalance Ratios for each column:\", imbalance_ratios)\n",
    "print(\"Mean Imbalance Ratio:\", mean_imbalance_ratio)\n"
   ]
  },
  {
   "cell_type": "code",
   "execution_count": 245,
   "metadata": {
    "execution": {
     "iopub.execute_input": "2024-11-30T16:57:36.312344Z",
     "iopub.status.busy": "2024-11-30T16:57:36.311958Z",
     "iopub.status.idle": "2024-11-30T16:57:37.895609Z",
     "shell.execute_reply": "2024-11-30T16:57:37.894200Z",
     "shell.execute_reply.started": "2024-11-30T16:57:36.312308Z"
    },
    "trusted": true
   },
   "outputs": [
    {
     "name": "stdout",
     "output_type": "stream",
     "text": [
      "Average length of tokenized text: 24.481429572529784\n",
      "Max token length: 183\n"
     ]
    },
    {
     "data": {
      "image/png": "[encoded data removed]",
      "text/plain": [
       "<Figure size 640x480 with 1 Axes>"
      ]
     },
     "metadata": {},
     "output_type": "display_data"
    }
   ],
   "source": [
    "sequence_length_statistics(data['review'])"
   ]
  },
  {
   "cell_type": "markdown",
   "metadata": {},
   "source": [
    "# Netifier"
   ]
  },
  {
   "cell_type": "code",
   "execution_count": 247,
   "metadata": {
    "execution": {
     "iopub.execute_input": "2024-11-30T16:57:58.406262Z",
     "iopub.status.busy": "2024-11-30T16:57:58.405293Z",
     "iopub.status.idle": "2024-11-30T16:57:58.514654Z",
     "shell.execute_reply": "2024-11-30T16:57:58.513512Z",
     "shell.execute_reply.started": "2024-11-30T16:57:58.406215Z"
    },
    "trusted": true
   },
   "outputs": [
    {
     "name": "stdout",
     "output_type": "stream",
     "text": [
      "(7773, 7)\n"
     ]
    }
   ],
   "source": [
    "train_data = pd.read_csv('/kaggle/input/netifier-2/processed_train.csv')\n",
    "test_data = pd.read_csv('/kaggle/input/netifier-2/processed_test.csv')\n",
    "\n",
    "data = pd.concat([train_data, test_data], axis=0)\n",
    "\n",
    "print(data.shape)"
   ]
  },
  {
   "cell_type": "code",
   "execution_count": 248,
   "metadata": {
    "_kg_hide-input": true,
    "execution": {
     "iopub.execute_input": "2024-11-30T16:57:58.726492Z",
     "iopub.status.busy": "2024-11-30T16:57:58.726074Z",
     "iopub.status.idle": "2024-11-30T16:57:58.740771Z",
     "shell.execute_reply": "2024-11-30T16:57:58.739543Z",
     "shell.execute_reply.started": "2024-11-30T16:57:58.726455Z"
    },
    "trusted": true
   },
   "outputs": [
    {
     "data": {
      "text/html": [
       "<div>\n",
       "<style scoped>\n",
       "    .dataframe tbody tr th:only-of-type {\n",
       "        vertical-align: middle;\n",
       "    }\n",
       "\n",
       "    .dataframe tbody tr th {\n",
       "        vertical-align: top;\n",
       "    }\n",
       "\n",
       "    .dataframe thead th {\n",
       "        text-align: right;\n",
       "    }\n",
       "</style>\n",
       "<table border=\"1\" class=\"dataframe\">\n",
       "  <thead>\n",
       "    <tr style=\"text-align: right;\">\n",
       "      <th></th>\n",
       "      <th>original_text</th>\n",
       "      <th>source</th>\n",
       "      <th>pornografi</th>\n",
       "      <th>sara</th>\n",
       "      <th>radikalisme</th>\n",
       "      <th>pencemaran_nama_baik</th>\n",
       "      <th>processed_text</th>\n",
       "    </tr>\n",
       "  </thead>\n",
       "  <tbody>\n",
       "    <tr>\n",
       "      <th>0</th>\n",
       "      <td>[QUOTE=jessepinkman16;5a50ac34d89b093f368b456e...</td>\n",
       "      <td>kaskus</td>\n",
       "      <td>0</td>\n",
       "      <td>0</td>\n",
       "      <td>0</td>\n",
       "      <td>1</td>\n",
       "      <td>jabar memang provinsi barokah boleh juga dan n...</td>\n",
       "    </tr>\n",
       "    <tr>\n",
       "      <th>1</th>\n",
       "      <td>@verosvante kita2 aja nitizen yang pada kepo,t...</td>\n",
       "      <td>instagram</td>\n",
       "      <td>0</td>\n",
       "      <td>0</td>\n",
       "      <td>0</td>\n",
       "      <td>0</td>\n",
       "      <td>kita saja nitizen yang pada penasaran toh kelu...</td>\n",
       "    </tr>\n",
       "    <tr>\n",
       "      <th>2</th>\n",
       "      <td>\"#SidangAhok smg sipenista agama n ateknya mat...</td>\n",
       "      <td>twitter</td>\n",
       "      <td>0</td>\n",
       "      <td>1</td>\n",
       "      <td>1</td>\n",
       "      <td>1</td>\n",
       "      <td>sidangahok semoga sipenista agama dan ateknya ...</td>\n",
       "    </tr>\n",
       "    <tr>\n",
       "      <th>3</th>\n",
       "      <td>@bolususulembang.jkt barusan baca undang2 ini....</td>\n",
       "      <td>instagram</td>\n",
       "      <td>0</td>\n",
       "      <td>0</td>\n",
       "      <td>0</td>\n",
       "      <td>0</td>\n",
       "      <td>jakarta barusan baca undang ini tetap dibedaka...</td>\n",
       "    </tr>\n",
       "    <tr>\n",
       "      <th>4</th>\n",
       "      <td>bikin anak mulu lu nof \\nkaga mikir apa kasian...</td>\n",
       "      <td>kaskus</td>\n",
       "      <td>0</td>\n",
       "      <td>0</td>\n",
       "      <td>0</td>\n",
       "      <td>0</td>\n",
       "      <td>buat anak melulu kamu nof nkaga mikir apa kasi...</td>\n",
       "    </tr>\n",
       "  </tbody>\n",
       "</table>\n",
       "</div>"
      ],
      "text/plain": [
       "                                       original_text     source  pornografi  \\\n",
       "0  [QUOTE=jessepinkman16;5a50ac34d89b093f368b456e...     kaskus           0   \n",
       "1  @verosvante kita2 aja nitizen yang pada kepo,t...  instagram           0   \n",
       "2  \"#SidangAhok smg sipenista agama n ateknya mat...    twitter           0   \n",
       "3  @bolususulembang.jkt barusan baca undang2 ini....  instagram           0   \n",
       "4  bikin anak mulu lu nof \\nkaga mikir apa kasian...     kaskus           0   \n",
       "\n",
       "   sara  radikalisme  pencemaran_nama_baik  \\\n",
       "0     0            0                     1   \n",
       "1     0            0                     0   \n",
       "2     1            1                     1   \n",
       "3     0            0                     0   \n",
       "4     0            0                     0   \n",
       "\n",
       "                                      processed_text  \n",
       "0  jabar memang provinsi barokah boleh juga dan n...  \n",
       "1  kita saja nitizen yang pada penasaran toh kelu...  \n",
       "2  sidangahok semoga sipenista agama dan ateknya ...  \n",
       "3  jakarta barusan baca undang ini tetap dibedaka...  \n",
       "4  buat anak melulu kamu nof nkaga mikir apa kasi...  "
      ]
     },
     "execution_count": 248,
     "metadata": {},
     "output_type": "execute_result"
    }
   ],
   "source": [
    "data.head()"
   ]
  },
  {
   "cell_type": "code",
   "execution_count": 249,
   "metadata": {
    "execution": {
     "iopub.execute_input": "2024-11-30T16:57:58.884790Z",
     "iopub.status.busy": "2024-11-30T16:57:58.884309Z",
     "iopub.status.idle": "2024-11-30T16:57:58.893826Z",
     "shell.execute_reply": "2024-11-30T16:57:58.892358Z",
     "shell.execute_reply.started": "2024-11-30T16:57:58.884750Z"
    },
    "trusted": true
   },
   "outputs": [
    {
     "name": "stdout",
     "output_type": "stream",
     "text": [
      "Index(['pornografi', 'sara', 'radikalisme', 'pencemaran_nama_baik'], dtype='object')\n"
     ]
    }
   ],
   "source": [
    "label_columns = data.columns[2:6]\n",
    "print(label_columns)"
   ]
  },
  {
   "cell_type": "code",
   "execution_count": 250,
   "metadata": {
    "execution": {
     "iopub.execute_input": "2024-11-30T16:57:59.045627Z",
     "iopub.status.busy": "2024-11-30T16:57:59.044857Z",
     "iopub.status.idle": "2024-11-30T16:57:59.622774Z",
     "shell.execute_reply": "2024-11-30T16:57:59.621503Z",
     "shell.execute_reply.started": "2024-11-30T16:57:59.045353Z"
    },
    "trusted": true
   },
   "outputs": [
    {
     "name": "stdout",
     "output_type": "stream",
     "text": [
      "{'pornografi': 1747, 'sara': 1238, 'radikalisme': 1276, 'pencemaran_nama_baik': 2425}\n"
     ]
    }
   ],
   "source": [
    "label_count = count_label_occurences(data, label_columns)\n",
    "print(label_count)"
   ]
  },
  {
   "cell_type": "code",
   "execution_count": 251,
   "metadata": {
    "execution": {
     "iopub.execute_input": "2024-11-30T16:57:59.625194Z",
     "iopub.status.busy": "2024-11-30T16:57:59.624820Z",
     "iopub.status.idle": "2024-11-30T16:57:59.847705Z",
     "shell.execute_reply": "2024-11-30T16:57:59.846499Z",
     "shell.execute_reply.started": "2024-11-30T16:57:59.625158Z"
    },
    "trusted": true
   },
   "outputs": [
    {
     "data": {
      "image/png": "[encoded data removed]",
      "text/plain": [
       "<Figure size 1200x600 with 1 Axes>"
      ]
     },
     "metadata": {},
     "output_type": "display_data"
    }
   ],
   "source": [
    "# Plot configuration\n",
    "x = np.arange(0,4)\n",
    "\n",
    "fig, ax = plt.subplots(figsize=(12, 6))\n",
    "\n",
    "rects = ax.bar(x, label_count.values())\n",
    "ax.bar_label(rects, padding=4)\n",
    "\n",
    "# Customization\n",
    "ax.set_xlabel('Categories')\n",
    "ax.set_ylabel('Counts')\n",
    "ax.set_title('Netifier')\n",
    "ax.set_xticks(x)\n",
    "ax.set_xticklabels(['pornografi', 'sara', 'radikalisme', 'pencemaran_nama_baik'])\n",
    "\n",
    "# Show the chart\n",
    "plt.show()"
   ]
  },
  {
   "cell_type": "code",
   "execution_count": 252,
   "metadata": {
    "execution": {
     "iopub.execute_input": "2024-11-30T16:57:59.998304Z",
     "iopub.status.busy": "2024-11-30T16:57:59.997880Z",
     "iopub.status.idle": "2024-11-30T16:58:00.015613Z",
     "shell.execute_reply": "2024-11-30T16:58:00.014464Z",
     "shell.execute_reply.started": "2024-11-30T16:57:59.998266Z"
    },
    "trusted": true
   },
   "outputs": [
    {
     "name": "stdout",
     "output_type": "stream",
     "text": [
      "Imbalance Ratios for each column: {'pornografi': 3.4493417286777333, 'sara': 5.278675282714055, 'radikalisme': 5.091692789968652, 'pencemaran_nama_baik': 2.205360824742268}\n",
      "Mean Imbalance Ratio: 4.01\n"
     ]
    }
   ],
   "source": [
    "# Specify the columns to analyze\n",
    "columns_to_analyze = ['pornografi', 'sara', 'radikalisme', 'pencemaran_nama_baik']\n",
    "\n",
    "# Calculate imbalance ratios for each column\n",
    "imbalance_ratios = {col: calculate_imbalance_ratio(data[col]) for col in columns_to_analyze}\n",
    "\n",
    "# Calculate the mean imbalance ratio\n",
    "mean_imbalance_ratio = (sum(imbalance_ratios.values()) / len(imbalance_ratios)).round(2)\n",
    "\n",
    "# Print the results\n",
    "print(\"Imbalance Ratios for each column:\", imbalance_ratios)\n",
    "print(\"Mean Imbalance Ratio:\", mean_imbalance_ratio)\n"
   ]
  },
  {
   "cell_type": "code",
   "execution_count": 253,
   "metadata": {
    "execution": {
     "iopub.execute_input": "2024-11-30T16:58:00.486893Z",
     "iopub.status.busy": "2024-11-30T16:58:00.486501Z",
     "iopub.status.idle": "2024-11-30T16:58:09.173364Z",
     "shell.execute_reply": "2024-11-30T16:58:09.171848Z",
     "shell.execute_reply.started": "2024-11-30T16:58:00.486855Z"
    },
    "trusted": true
   },
   "outputs": [
    {
     "name": "stdout",
     "output_type": "stream",
     "text": [
      "Average length of tokenized text: 54.08812556284575\n",
      "Max token length: 2591\n"
     ]
    },
    {
     "data": {
      "image/png": "[encoded data removed]",
      "text/plain": [
       "<Figure size 640x480 with 1 Axes>"
      ]
     },
     "metadata": {},
     "output_type": "display_data"
    }
   ],
   "source": [
    "sequence_length_statistics(data['processed_text'])"
   ]
  },
  {
   "cell_type": "markdown",
   "metadata": {},
   "source": [
    "# HSD"
   ]
  },
  {
   "cell_type": "code",
   "execution_count": 7,
   "metadata": {
    "execution": {
     "iopub.execute_input": "2024-11-30T16:58:18.084019Z",
     "iopub.status.busy": "2024-11-30T16:58:18.083602Z",
     "iopub.status.idle": "2024-11-30T16:58:18.142553Z",
     "shell.execute_reply": "2024-11-30T16:58:18.141265Z",
     "shell.execute_reply.started": "2024-11-30T16:58:18.083983Z"
    },
    "trusted": true
   },
   "outputs": [
    {
     "name": "stdout",
     "output_type": "stream",
     "text": [
      "(13169, 13)\n"
     ]
    }
   ],
   "source": [
    "data = pd.read_csv('../../dataset/id-multi-label-hate-speech-and-abusive-language-detection/re_dataset.csv', encoding='latin-1')\n",
    "\n",
    "print(data.shape)"
   ]
  },
  {
   "cell_type": "code",
   "execution_count": 8,
   "metadata": {
    "execution": {
     "iopub.execute_input": "2024-11-30T16:58:18.433223Z",
     "iopub.status.busy": "2024-11-30T16:58:18.432810Z",
     "iopub.status.idle": "2024-11-30T16:58:18.450490Z",
     "shell.execute_reply": "2024-11-30T16:58:18.448328Z",
     "shell.execute_reply.started": "2024-11-30T16:58:18.433183Z"
    },
    "trusted": true
   },
   "outputs": [
    {
     "data": {
      "text/html": [
       "<div>\n",
       "<style scoped>\n",
       "    .dataframe tbody tr th:only-of-type {\n",
       "        vertical-align: middle;\n",
       "    }\n",
       "\n",
       "    .dataframe tbody tr th {\n",
       "        vertical-align: top;\n",
       "    }\n",
       "\n",
       "    .dataframe thead th {\n",
       "        text-align: right;\n",
       "    }\n",
       "</style>\n",
       "<table border=\"1\" class=\"dataframe\">\n",
       "  <thead>\n",
       "    <tr style=\"text-align: right;\">\n",
       "      <th></th>\n",
       "      <th>Tweet</th>\n",
       "      <th>HS</th>\n",
       "      <th>Abusive</th>\n",
       "      <th>HS_Individual</th>\n",
       "      <th>HS_Group</th>\n",
       "      <th>HS_Religion</th>\n",
       "      <th>HS_Race</th>\n",
       "      <th>HS_Physical</th>\n",
       "      <th>HS_Gender</th>\n",
       "      <th>HS_Other</th>\n",
       "      <th>HS_Weak</th>\n",
       "      <th>HS_Moderate</th>\n",
       "      <th>HS_Strong</th>\n",
       "    </tr>\n",
       "  </thead>\n",
       "  <tbody>\n",
       "    <tr>\n",
       "      <th>0</th>\n",
       "      <td>- disaat semua cowok berusaha melacak perhatia...</td>\n",
       "      <td>1</td>\n",
       "      <td>1</td>\n",
       "      <td>1</td>\n",
       "      <td>0</td>\n",
       "      <td>0</td>\n",
       "      <td>0</td>\n",
       "      <td>0</td>\n",
       "      <td>0</td>\n",
       "      <td>1</td>\n",
       "      <td>1</td>\n",
       "      <td>0</td>\n",
       "      <td>0</td>\n",
       "    </tr>\n",
       "    <tr>\n",
       "      <th>1</th>\n",
       "      <td>RT USER: USER siapa yang telat ngasih tau elu?...</td>\n",
       "      <td>0</td>\n",
       "      <td>1</td>\n",
       "      <td>0</td>\n",
       "      <td>0</td>\n",
       "      <td>0</td>\n",
       "      <td>0</td>\n",
       "      <td>0</td>\n",
       "      <td>0</td>\n",
       "      <td>0</td>\n",
       "      <td>0</td>\n",
       "      <td>0</td>\n",
       "      <td>0</td>\n",
       "    </tr>\n",
       "    <tr>\n",
       "      <th>2</th>\n",
       "      <td>41. Kadang aku berfikir, kenapa aku tetap perc...</td>\n",
       "      <td>0</td>\n",
       "      <td>0</td>\n",
       "      <td>0</td>\n",
       "      <td>0</td>\n",
       "      <td>0</td>\n",
       "      <td>0</td>\n",
       "      <td>0</td>\n",
       "      <td>0</td>\n",
       "      <td>0</td>\n",
       "      <td>0</td>\n",
       "      <td>0</td>\n",
       "      <td>0</td>\n",
       "    </tr>\n",
       "    <tr>\n",
       "      <th>3</th>\n",
       "      <td>USER USER AKU ITU AKU\\n\\nKU TAU MATAMU SIPIT T...</td>\n",
       "      <td>0</td>\n",
       "      <td>0</td>\n",
       "      <td>0</td>\n",
       "      <td>0</td>\n",
       "      <td>0</td>\n",
       "      <td>0</td>\n",
       "      <td>0</td>\n",
       "      <td>0</td>\n",
       "      <td>0</td>\n",
       "      <td>0</td>\n",
       "      <td>0</td>\n",
       "      <td>0</td>\n",
       "    </tr>\n",
       "    <tr>\n",
       "      <th>4</th>\n",
       "      <td>USER USER Kaum cebong kapir udah keliatan dong...</td>\n",
       "      <td>1</td>\n",
       "      <td>1</td>\n",
       "      <td>0</td>\n",
       "      <td>1</td>\n",
       "      <td>1</td>\n",
       "      <td>0</td>\n",
       "      <td>0</td>\n",
       "      <td>0</td>\n",
       "      <td>0</td>\n",
       "      <td>0</td>\n",
       "      <td>1</td>\n",
       "      <td>0</td>\n",
       "    </tr>\n",
       "  </tbody>\n",
       "</table>\n",
       "</div>"
      ],
      "text/plain": [
       "                                               Tweet  HS  Abusive  \\\n",
       "0  - disaat semua cowok berusaha melacak perhatia...   1        1   \n",
       "1  RT USER: USER siapa yang telat ngasih tau elu?...   0        1   \n",
       "2  41. Kadang aku berfikir, kenapa aku tetap perc...   0        0   \n",
       "3  USER USER AKU ITU AKU\\n\\nKU TAU MATAMU SIPIT T...   0        0   \n",
       "4  USER USER Kaum cebong kapir udah keliatan dong...   1        1   \n",
       "\n",
       "   HS_Individual  HS_Group  HS_Religion  HS_Race  HS_Physical  HS_Gender  \\\n",
       "0              1         0            0        0            0          0   \n",
       "1              0         0            0        0            0          0   \n",
       "2              0         0            0        0            0          0   \n",
       "3              0         0            0        0            0          0   \n",
       "4              0         1            1        0            0          0   \n",
       "\n",
       "   HS_Other  HS_Weak  HS_Moderate  HS_Strong  \n",
       "0         1        1            0          0  \n",
       "1         0        0            0          0  \n",
       "2         0        0            0          0  \n",
       "3         0        0            0          0  \n",
       "4         0        0            1          0  "
      ]
     },
     "execution_count": 8,
     "metadata": {},
     "output_type": "execute_result"
    }
   ],
   "source": [
    "data.head()"
   ]
  },
  {
   "cell_type": "code",
   "execution_count": 9,
   "metadata": {
    "execution": {
     "iopub.execute_input": "2024-11-30T16:58:18.949546Z",
     "iopub.status.busy": "2024-11-30T16:58:18.949088Z",
     "iopub.status.idle": "2024-11-30T16:58:18.955986Z",
     "shell.execute_reply": "2024-11-30T16:58:18.954740Z",
     "shell.execute_reply.started": "2024-11-30T16:58:18.949506Z"
    },
    "trusted": true
   },
   "outputs": [
    {
     "name": "stdout",
     "output_type": "stream",
     "text": [
      "Index(['HS', 'Abusive', 'HS_Individual', 'HS_Group', 'HS_Religion', 'HS_Race',\n",
      "       'HS_Physical', 'HS_Gender', 'HS_Other', 'HS_Weak', 'HS_Moderate',\n",
      "       'HS_Strong'],\n",
      "      dtype='object')\n"
     ]
    }
   ],
   "source": [
    "label_columns = data.columns[1:13]\n",
    "print(label_columns)"
   ]
  },
  {
   "cell_type": "code",
   "execution_count": 10,
   "metadata": {
    "execution": {
     "iopub.execute_input": "2024-11-30T16:58:19.819822Z",
     "iopub.status.busy": "2024-11-30T16:58:19.819434Z",
     "iopub.status.idle": "2024-11-30T16:58:20.938322Z",
     "shell.execute_reply": "2024-11-30T16:58:20.937051Z",
     "shell.execute_reply.started": "2024-11-30T16:58:19.819788Z"
    },
    "trusted": true
   },
   "outputs": [
    {
     "name": "stdout",
     "output_type": "stream",
     "text": [
      "{'HS': 5561, 'Abusive': 5043, 'HS_Individual': 3575, 'HS_Group': 1986, 'HS_Religion': 793, 'HS_Race': 566, 'HS_Physical': 323, 'HS_Gender': 306, 'HS_Other': 3740, 'HS_Weak': 3383, 'HS_Moderate': 1705, 'HS_Strong': 473}\n"
     ]
    }
   ],
   "source": [
    "label_count = count_label_occurences(data, label_columns)\n",
    "print(label_count)"
   ]
  },
  {
   "cell_type": "code",
   "execution_count": null,
   "metadata": {
    "execution": {
     "iopub.execute_input": "2024-11-30T16:58:20.940879Z",
     "iopub.status.busy": "2024-11-30T16:58:20.940370Z",
     "iopub.status.idle": "2024-11-30T16:58:21.297832Z",
     "shell.execute_reply": "2024-11-30T16:58:21.296133Z",
     "shell.execute_reply.started": "2024-11-30T16:58:20.940825Z"
    },
    "trusted": true
   },
   "outputs": [
    {
     "name": "stdout",
     "output_type": "stream",
     "text": [
      "(13169, 13)\n",
      "(3328, 13)\n",
      "(14169, 13)\n"
     ]
    },
    {
     "data": {
      "image/png": "[encoded data removed]",
      "text/plain": [
       "<Figure size 1500x1500 with 3 Axes>"
      ]
     },
     "metadata": {},
     "output_type": "display_data"
    }
   ],
   "source": [
    "# Plot configuration\n",
    "x = np.arange(0,12)\n",
    "\n",
    "fig, axes = plt.subplots(3, 1, figsize=(15, 15), sharex=True)\n",
    "names = ['re_dataset', 'augmented/undersampled', 'augmented/oversampled-2']\n",
    "titles = ['Original', 'Undersampled', 'Oversampled']\n",
    "\n",
    "for i in range(3):\n",
    "       data = pd.read_csv(f'../../dataset/id-multi-label-hate-speech-and-abusive-language-detection/{names[i]}.csv', encoding='latin-1')\n",
    "       label_columns = data.columns[1:]\n",
    "       label_count = count_label_occurences(data, label_columns)\n",
    "\n",
    "       ax = axes[i]  # Get the current subplot\n",
    "\n",
    "       print(data.shape)\n",
    "\n",
    "       rects = ax.bar(x, label_count.values())\n",
    "       ax.bar_label(rects, padding=4)\n",
    "\n",
    "       # Customization\n",
    "       ax.set_xlabel('Categories')\n",
    "       ax.set_ylabel('Counts')\n",
    "       ax.set_title(titles[i])\n",
    "       ax.set_xticks(x)\n",
    "       ax.set_xticklabels(['HS', 'Abusive', 'HS_Individual', 'HS_Group', 'HS_Religion', 'HS_Race',\n",
    "              'HS_Physical', 'HS_Gender', 'HS_Other', 'HS_Weak', 'HS_Moderate',\n",
    "              'HS_Strong'])\n",
    "\n",
    "# Show the chart\n",
    "plt.show()"
   ]
  },
  {
   "cell_type": "code",
   "execution_count": 259,
   "metadata": {
    "execution": {
     "iopub.execute_input": "2024-11-30T16:58:22.412716Z",
     "iopub.status.busy": "2024-11-30T16:58:22.412280Z",
     "iopub.status.idle": "2024-11-30T16:58:22.437463Z",
     "shell.execute_reply": "2024-11-30T16:58:22.436284Z",
     "shell.execute_reply.started": "2024-11-30T16:58:22.412679Z"
    },
    "trusted": true
   },
   "outputs": [
    {
     "name": "stdout",
     "output_type": "stream",
     "text": [
      "Imbalance Ratios for each column: {'HS': 1.368099262722532, 'Abusive': 1.6113424548879636, 'HS_Individual': 2.6836363636363636, 'HS_Group': 5.6309164149043305, 'HS_Religion': 15.60655737704918, 'HS_Race': 22.266784452296818, 'HS_Physical': 39.77089783281734, 'HS_Gender': 42.0359477124183, 'HS_Other': 2.5211229946524063, 'HS_Weak': 2.892698788057937, 'HS_Moderate': 6.7237536656891495, 'HS_Strong': 26.841437632135307}\n",
      "Mean Imbalance Ratio: 14.16\n"
     ]
    }
   ],
   "source": [
    "# Specify the columns to analyze\n",
    "columns_to_analyze = ['HS', 'Abusive', 'HS_Individual', 'HS_Group', 'HS_Religion', 'HS_Race',\n",
    "       'HS_Physical', 'HS_Gender', 'HS_Other', 'HS_Weak', 'HS_Moderate',\n",
    "       'HS_Strong']\n",
    "\n",
    "# Calculate imbalance ratios for each column\n",
    "imbalance_ratios = {col: calculate_imbalance_ratio(data[col]) for col in columns_to_analyze}\n",
    "\n",
    "# Calculate the mean imbalance ratio\n",
    "mean_imbalance_ratio = (sum(imbalance_ratios.values()) / len(imbalance_ratios)).round(2)\n",
    "\n",
    "# Print the results\n",
    "print(\"Imbalance Ratios for each column:\", imbalance_ratios)\n",
    "print(\"Mean Imbalance Ratio:\", mean_imbalance_ratio)\n"
   ]
  },
  {
   "cell_type": "code",
   "execution_count": 260,
   "metadata": {
    "execution": {
     "iopub.execute_input": "2024-11-30T16:58:28.399208Z",
     "iopub.status.busy": "2024-11-30T16:58:28.398693Z",
     "iopub.status.idle": "2024-11-30T16:58:35.345814Z",
     "shell.execute_reply": "2024-11-30T16:58:35.344556Z",
     "shell.execute_reply.started": "2024-11-30T16:58:28.399159Z"
    },
    "trusted": true
   },
   "outputs": [
    {
     "name": "stdout",
     "output_type": "stream",
     "text": [
      "Average length of tokenized text: 29.17184296453793\n",
      "Max token length: 357\n"
     ]
    },
    {
     "data": {
      "image/png": "[encoded data removed]",
      "text/plain": [
       "<Figure size 640x480 with 1 Axes>"
      ]
     },
     "metadata": {},
     "output_type": "display_data"
    }
   ],
   "source": [
    "sequence_length_statistics(data['Tweet'])"
   ]
  },
  {
   "cell_type": "markdown",
   "metadata": {},
   "source": [
    "# Doctor's Answer"
   ]
  },
  {
   "cell_type": "code",
   "execution_count": 261,
   "metadata": {
    "execution": {
     "iopub.execute_input": "2024-11-30T16:58:43.694505Z",
     "iopub.status.busy": "2024-11-30T16:58:43.694074Z",
     "iopub.status.idle": "2024-11-30T16:58:43.754335Z",
     "shell.execute_reply": "2024-11-30T16:58:43.752993Z",
     "shell.execute_reply.started": "2024-11-30T16:58:43.694464Z"
    },
    "trusted": true
   },
   "outputs": [
    {
     "name": "stdout",
     "output_type": "stream",
     "text": [
      "(500, 13)\n"
     ]
    }
   ],
   "source": [
    "data = pd.read_csv('/kaggle/input/doctors-answer-dataset/Indo-Online Health Consultation-Medical Interview-Clean.csv', encoding='latin-1')\n",
    "\n",
    "print(data.shape)"
   ]
  },
  {
   "cell_type": "code",
   "execution_count": 262,
   "metadata": {
    "execution": {
     "iopub.execute_input": "2024-11-30T16:58:46.433008Z",
     "iopub.status.busy": "2024-11-30T16:58:46.432517Z",
     "iopub.status.idle": "2024-11-30T16:58:46.448344Z",
     "shell.execute_reply": "2024-11-30T16:58:46.447126Z",
     "shell.execute_reply.started": "2024-11-30T16:58:46.432969Z"
    },
    "trusted": true
   },
   "outputs": [
    {
     "data": {
      "text/html": [
       "<div>\n",
       "<style scoped>\n",
       "    .dataframe tbody tr th:only-of-type {\n",
       "        vertical-align: middle;\n",
       "    }\n",
       "\n",
       "    .dataframe tbody tr th {\n",
       "        vertical-align: top;\n",
       "    }\n",
       "\n",
       "    .dataframe thead th {\n",
       "        text-align: right;\n",
       "    }\n",
       "</style>\n",
       "<table border=\"1\" class=\"dataframe\">\n",
       "  <thead>\n",
       "    <tr style=\"text-align: right;\">\n",
       "      <th></th>\n",
       "      <th>No</th>\n",
       "      <th>answer</th>\n",
       "      <th>1-FR</th>\n",
       "      <th>2-GI</th>\n",
       "      <th>3-PI</th>\n",
       "      <th>4-DM</th>\n",
       "      <th>5-EDTRB</th>\n",
       "      <th>6-RE</th>\n",
       "      <th>Text_Clean</th>\n",
       "      <th>filtered_text</th>\n",
       "      <th>token</th>\n",
       "      <th>tokens_stemmed</th>\n",
       "      <th>Process_Data</th>\n",
       "    </tr>\n",
       "  </thead>\n",
       "  <tbody>\n",
       "    <tr>\n",
       "      <th>0</th>\n",
       "      <td>1</td>\n",
       "      <td>Halo Rizal,Radang tenggorokan umunya disebabka...</td>\n",
       "      <td>1</td>\n",
       "      <td>0</td>\n",
       "      <td>1</td>\n",
       "      <td>1</td>\n",
       "      <td>1</td>\n",
       "      <td>0</td>\n",
       "      <td>halo rizal radang tenggorokan umunya disebabka...</td>\n",
       "      <td>halo rizal radang tenggorokan umunya disebabka...</td>\n",
       "      <td>['halo', 'rizal', 'radang', 'tenggorokan', 'um...</td>\n",
       "      <td>['halo', 'rizal', 'radang', 'tenggorok', 'umu'...</td>\n",
       "      <td>halo rizal radang tenggorok umu sebab infeksi ...</td>\n",
       "    </tr>\n",
       "    <tr>\n",
       "      <th>1</th>\n",
       "      <td>2</td>\n",
       "      <td>Halo Hellas,Cacar air merupakan suatu penyakit...</td>\n",
       "      <td>1</td>\n",
       "      <td>0</td>\n",
       "      <td>1</td>\n",
       "      <td>1</td>\n",
       "      <td>1</td>\n",
       "      <td>0</td>\n",
       "      <td>halo hellas cacar air merupakan suatu penyakit...</td>\n",
       "      <td>halo hellas cacar air penyakit disebabkan viru...</td>\n",
       "      <td>['halo', 'hellas', 'cacar', 'air', 'penyakit',...</td>\n",
       "      <td>['halo', 'hellas', 'cacar', 'air', 'sakit', 's...</td>\n",
       "      <td>halo hellas cacar air sakit sebab virus varise...</td>\n",
       "    </tr>\n",
       "    <tr>\n",
       "      <th>2</th>\n",
       "      <td>3</td>\n",
       "      <td>Halo Rory.......Terimakasih atas pertanyaan An...</td>\n",
       "      <td>1</td>\n",
       "      <td>0</td>\n",
       "      <td>1</td>\n",
       "      <td>1</td>\n",
       "      <td>1</td>\n",
       "      <td>0</td>\n",
       "      <td>halo rory terimakasih atas pertanyaan anda per...</td>\n",
       "      <td>halo rory terimakasih ketahui gangguan kulit s...</td>\n",
       "      <td>['halo', 'rory', 'terimakasih', 'ketahui', 'ga...</td>\n",
       "      <td>['halo', 'rory', 'terimakasih', 'tahu', 'gangg...</td>\n",
       "      <td>halo rory terimakasih tahu ganggu kulit rangka...</td>\n",
       "    </tr>\n",
       "    <tr>\n",
       "      <th>3</th>\n",
       "      <td>4</td>\n",
       "      <td>Alo AfriYani, Terimakasih atas pertanyaannya. ...</td>\n",
       "      <td>1</td>\n",
       "      <td>0</td>\n",
       "      <td>1</td>\n",
       "      <td>1</td>\n",
       "      <td>1</td>\n",
       "      <td>0</td>\n",
       "      <td>alo afriyani terimakasih atas pertanyaannya ku...</td>\n",
       "      <td>alo afriyani terimakasih pertanyaannya kuku ja...</td>\n",
       "      <td>['alo', 'afriyani', 'terimakasih', 'pertanyaan...</td>\n",
       "      <td>['alo', 'afriyani', 'terimakasih', 'tanya', 'k...</td>\n",
       "      <td>alo afriyani terimakasih tanya kuku jari kaki ...</td>\n",
       "    </tr>\n",
       "    <tr>\n",
       "      <th>4</th>\n",
       "      <td>5</td>\n",
       "      <td>Halo,Telinga berdenging atau  tinitus  merupak...</td>\n",
       "      <td>1</td>\n",
       "      <td>0</td>\n",
       "      <td>1</td>\n",
       "      <td>1</td>\n",
       "      <td>1</td>\n",
       "      <td>0</td>\n",
       "      <td>halo telinga berdenging atau tinitus merupakan...</td>\n",
       "      <td>halo telinga berdenging tinitus sensasi penden...</td>\n",
       "      <td>['halo', 'telinga', 'berdenging', 'tinitus', '...</td>\n",
       "      <td>['halo', 'telinga', 'denging', 'tinitus', 'sen...</td>\n",
       "      <td>halo telinga denging tinitus sensasi dengar de...</td>\n",
       "    </tr>\n",
       "  </tbody>\n",
       "</table>\n",
       "</div>"
      ],
      "text/plain": [
       "   No                                             answer  1-FR  2-GI  3-PI  \\\n",
       "0   1  Halo Rizal,Radang tenggorokan umunya disebabka...     1     0     1   \n",
       "1   2  Halo Hellas,Cacar air merupakan suatu penyakit...     1     0     1   \n",
       "2   3  Halo Rory.......Terimakasih atas pertanyaan An...     1     0     1   \n",
       "3   4  Alo AfriYani, Terimakasih atas pertanyaannya. ...     1     0     1   \n",
       "4   5  Halo,Telinga berdenging atau  tinitus  merupak...     1     0     1   \n",
       "\n",
       "   4-DM  5-EDTRB  6-RE                                         Text_Clean  \\\n",
       "0     1        1     0  halo rizal radang tenggorokan umunya disebabka...   \n",
       "1     1        1     0  halo hellas cacar air merupakan suatu penyakit...   \n",
       "2     1        1     0  halo rory terimakasih atas pertanyaan anda per...   \n",
       "3     1        1     0  alo afriyani terimakasih atas pertanyaannya ku...   \n",
       "4     1        1     0  halo telinga berdenging atau tinitus merupakan...   \n",
       "\n",
       "                                       filtered_text  \\\n",
       "0  halo rizal radang tenggorokan umunya disebabka...   \n",
       "1  halo hellas cacar air penyakit disebabkan viru...   \n",
       "2  halo rory terimakasih ketahui gangguan kulit s...   \n",
       "3  alo afriyani terimakasih pertanyaannya kuku ja...   \n",
       "4  halo telinga berdenging tinitus sensasi penden...   \n",
       "\n",
       "                                               token  \\\n",
       "0  ['halo', 'rizal', 'radang', 'tenggorokan', 'um...   \n",
       "1  ['halo', 'hellas', 'cacar', 'air', 'penyakit',...   \n",
       "2  ['halo', 'rory', 'terimakasih', 'ketahui', 'ga...   \n",
       "3  ['alo', 'afriyani', 'terimakasih', 'pertanyaan...   \n",
       "4  ['halo', 'telinga', 'berdenging', 'tinitus', '...   \n",
       "\n",
       "                                      tokens_stemmed  \\\n",
       "0  ['halo', 'rizal', 'radang', 'tenggorok', 'umu'...   \n",
       "1  ['halo', 'hellas', 'cacar', 'air', 'sakit', 's...   \n",
       "2  ['halo', 'rory', 'terimakasih', 'tahu', 'gangg...   \n",
       "3  ['alo', 'afriyani', 'terimakasih', 'tanya', 'k...   \n",
       "4  ['halo', 'telinga', 'denging', 'tinitus', 'sen...   \n",
       "\n",
       "                                        Process_Data  \n",
       "0  halo rizal radang tenggorok umu sebab infeksi ...  \n",
       "1  halo hellas cacar air sakit sebab virus varise...  \n",
       "2  halo rory terimakasih tahu ganggu kulit rangka...  \n",
       "3  alo afriyani terimakasih tanya kuku jari kaki ...  \n",
       "4  halo telinga denging tinitus sensasi dengar de...  "
      ]
     },
     "execution_count": 262,
     "metadata": {},
     "output_type": "execute_result"
    }
   ],
   "source": [
    "data.head()"
   ]
  },
  {
   "cell_type": "code",
   "execution_count": 263,
   "metadata": {
    "execution": {
     "iopub.execute_input": "2024-11-30T16:58:47.027010Z",
     "iopub.status.busy": "2024-11-30T16:58:47.026599Z",
     "iopub.status.idle": "2024-11-30T16:58:47.033504Z",
     "shell.execute_reply": "2024-11-30T16:58:47.032346Z",
     "shell.execute_reply.started": "2024-11-30T16:58:47.026969Z"
    },
    "trusted": true
   },
   "outputs": [
    {
     "name": "stdout",
     "output_type": "stream",
     "text": [
      "Index(['1-FR', '2-GI', '3-PI', '4-DM', '5-EDTRB', '6-RE'], dtype='object')\n"
     ]
    }
   ],
   "source": [
    "label_columns = data.columns[2:8]\n",
    "print(label_columns)"
   ]
  },
  {
   "cell_type": "code",
   "execution_count": 264,
   "metadata": {
    "execution": {
     "iopub.execute_input": "2024-11-30T16:58:47.322335Z",
     "iopub.status.busy": "2024-11-30T16:58:47.321956Z",
     "iopub.status.idle": "2024-11-30T16:58:47.371544Z",
     "shell.execute_reply": "2024-11-30T16:58:47.370243Z",
     "shell.execute_reply.started": "2024-11-30T16:58:47.322301Z"
    },
    "trusted": true
   },
   "outputs": [
    {
     "name": "stdout",
     "output_type": "stream",
     "text": [
      "{'1-FR': 500, '2-GI': 41, '3-PI': 500, '4-DM': 439, '5-EDTRB': 495, '6-RE': 24}\n"
     ]
    }
   ],
   "source": [
    "label_count = count_label_occurences(data, label_columns)\n",
    "print(label_count)"
   ]
  },
  {
   "cell_type": "code",
   "execution_count": 265,
   "metadata": {
    "execution": {
     "iopub.execute_input": "2024-11-30T16:58:48.406256Z",
     "iopub.status.busy": "2024-11-30T16:58:48.405802Z",
     "iopub.status.idle": "2024-11-30T16:58:48.679203Z",
     "shell.execute_reply": "2024-11-30T16:58:48.677761Z",
     "shell.execute_reply.started": "2024-11-30T16:58:48.406216Z"
    },
    "trusted": true
   },
   "outputs": [
    {
     "data": {
      "image/png": "[encoded data removed]",
      "text/plain": [
       "<Figure size 600x600 with 1 Axes>"
      ]
     },
     "metadata": {},
     "output_type": "display_data"
    }
   ],
   "source": [
    "# Plot configuration\n",
    "x = np.arange(0,6)\n",
    "\n",
    "fig, ax = plt.subplots(figsize=(6, 6))\n",
    "\n",
    "rects = ax.bar(x, label_count.values())\n",
    "ax.bar_label(rects, padding=4)\n",
    "\n",
    "# Customization\n",
    "ax.set_xlabel('Categories')\n",
    "ax.set_ylabel('Counts')\n",
    "ax.set_title(\"Doctor's Answer\")\n",
    "ax.set_xticks(x)\n",
    "ax.set_xticklabels(['1-FR', '2-GI', '3-PI', '4-DM', '5-EDTRB', '6-RE'])\n",
    "\n",
    "# Show the chart\n",
    "plt.show()"
   ]
  },
  {
   "cell_type": "code",
   "execution_count": 266,
   "metadata": {
    "execution": {
     "iopub.execute_input": "2024-11-30T16:58:49.912594Z",
     "iopub.status.busy": "2024-11-30T16:58:49.912157Z",
     "iopub.status.idle": "2024-11-30T16:58:49.928594Z",
     "shell.execute_reply": "2024-11-30T16:58:49.927219Z",
     "shell.execute_reply.started": "2024-11-30T16:58:49.912550Z"
    },
    "trusted": true
   },
   "outputs": [
    {
     "name": "stdout",
     "output_type": "stream",
     "text": [
      "Imbalance Ratios for each column: {'1-FR': 1.0, '2-GI': 11.195121951219512, '3-PI': 1.0, '4-DM': 7.19672131147541, '5-EDTRB': 99.0, '6-RE': 19.833333333333332}\n",
      "Mean Imbalance Ratio: 23.2\n"
     ]
    }
   ],
   "source": [
    "# Specify the columns to analyze\n",
    "columns_to_analyze = ['1-FR', '2-GI', '3-PI', '4-DM', '5-EDTRB', '6-RE']\n",
    "\n",
    "# Calculate imbalance ratios for each column\n",
    "imbalance_ratios = {col: calculate_imbalance_ratio(data[col]) for col in columns_to_analyze}\n",
    "\n",
    "# Calculate the mean imbalance ratio\n",
    "mean_imbalance_ratio = (sum(imbalance_ratios.values()) / len(imbalance_ratios)).round(2)\n",
    "\n",
    "# Print the results\n",
    "print(\"Imbalance Ratios for each column:\", imbalance_ratios)\n",
    "print(\"Mean Imbalance Ratio:\", mean_imbalance_ratio)\n"
   ]
  },
  {
   "cell_type": "code",
   "execution_count": 267,
   "metadata": {
    "execution": {
     "iopub.execute_input": "2024-11-30T16:59:01.427784Z",
     "iopub.status.busy": "2024-11-30T16:59:01.427298Z",
     "iopub.status.idle": "2024-11-30T16:59:03.187177Z",
     "shell.execute_reply": "2024-11-30T16:59:03.186060Z",
     "shell.execute_reply.started": "2024-11-30T16:59:01.427746Z"
    },
    "trusted": true
   },
   "outputs": [
    {
     "name": "stdout",
     "output_type": "stream",
     "text": [
      "Average length of tokenized text: 130.202\n",
      "Max token length: 469\n"
     ]
    },
    {
     "data": {
      "image/png": "[encoded data removed]",
      "text/plain": [
       "<Figure size 640x480 with 1 Axes>"
      ]
     },
     "metadata": {},
     "output_type": "display_data"
    }
   ],
   "source": [
    "sequence_length_statistics(data['filtered_text'])"
   ]
  }
 ],
 "metadata": {
  "kaggle": {
   "accelerator": "none",
   "dataSources": [
    {
     "datasetId": 6078649,
     "sourceId": 9896348,
     "sourceType": "datasetVersion"
    },
    {
     "datasetId": 6175430,
     "sourceId": 10027608,
     "sourceType": "datasetVersion"
    },
    {
     "datasetId": 6175435,
     "sourceId": 10027613,
     "sourceType": "datasetVersion"
    },
    {
     "datasetId": 6175442,
     "sourceId": 10027624,
     "sourceType": "datasetVersion"
    },
    {
     "datasetId": 6175447,
     "sourceId": 10027629,
     "sourceType": "datasetVersion"
    }
   ],
   "dockerImageVersionId": 30786,
   "isGpuEnabled": false,
   "isInternetEnabled": true,
   "language": "python",
   "sourceType": "notebook"
  },
  "kernelspec": {
   "display_name": "Python 3",
   "language": "python",
   "name": "python3"
  },
  "language_info": {
   "codemirror_mode": {
    "name": "ipython",
    "version": 3
   },
   "file_extension": ".py",
   "mimetype": "text/x-python",
   "name": "python",
   "nbconvert_exporter": "python",
   "pygments_lexer": "ipython3",
   "version": "3.9.6"
  }
 },
 "nbformat": 4,
 "nbformat_minor": 4
}
