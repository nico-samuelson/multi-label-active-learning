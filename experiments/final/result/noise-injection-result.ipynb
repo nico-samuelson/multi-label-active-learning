{
 "cells": [
  {
   "cell_type": "code",
   "execution_count": 1,
   "id": "3b03d3a0",
   "metadata": {},
   "outputs": [],
   "source": [
    "import numpy as np\n",
    "import matplotlib.pyplot as plt\n",
    "import pandas as pd\n",
    "import math"
   ]
  },
  {
   "cell_type": "code",
   "execution_count": 2,
   "id": "25ff0300",
   "metadata": {},
   "outputs": [],
   "source": [
    "types = ['typo', 'word-insertion', 'word-deletion', 'combined-noise']"
   ]
  },
  {
   "cell_type": "code",
   "execution_count": 3,
   "id": "3b8b2f23",
   "metadata": {},
   "outputs": [],
   "source": [
    "def load_data(dataset):\n",
    "    noisy_results = {}\n",
    "    for type in types:\n",
    "        noisy_results[type] = pd.read_csv(f'../{dataset}/metrics/noisy/{dataset}-{type}-result.csv')\n",
    "    original_result = pd.read_csv(f'../{dataset}/metrics/noisy/{dataset}-without-noise-result.csv')\n",
    "\n",
    "    return noisy_results, original_result"
   ]
  },
  {
   "cell_type": "code",
   "execution_count": 4,
   "id": "5b48a35c",
   "metadata": {},
   "outputs": [],
   "source": [
    "def calculate_differences(noisy_results, original_result, ignored_methods=None):\n",
    "    diff = {}\n",
    "\n",
    "    for i in range(len(original_result)):\n",
    "        original_f1 = original_result.iloc[i][original_result.columns[1]]\n",
    "        noisy_diff = 0\n",
    "\n",
    "        for type in types:\n",
    "            noisy_diff += noisy_results[type].iloc[i][noisy_results[type].columns[1]] - original_f1\n",
    "\n",
    "        noisy_diff = noisy_diff / len(types)\n",
    "        print(f\"Strategy: {original_result.iloc[i]['strategy']}\")\n",
    "        print(f\"Original F1: {original_f1}\")\n",
    "        print(f\"Average noisy F1: {round(original_f1 + noisy_diff, 2)}\")\n",
    "        print(f\"Absolute diff: {round(noisy_diff, 2)}\")\n",
    "        print(f\"Relative diff: {round((noisy_diff / original_f1) * 100, 2)}\")\n",
    "        print(\"=\" * 50)\n",
    "\n",
    "        diff[original_result.iloc[i]['strategy']] = round(noisy_diff, 2)\n",
    "\n",
    "    return diff"
   ]
  },
  {
   "cell_type": "code",
   "execution_count": 5,
   "id": "4c1e73da",
   "metadata": {},
   "outputs": [],
   "source": [
    "def print_differences(diff):\n",
    "    for key, value in diff.items():\n",
    "        print(f\"{key}: {value}\")\n",
    "    print()"
   ]
  },
  {
   "cell_type": "markdown",
   "id": "50aea9f0",
   "metadata": {},
   "source": [
    "# HSD"
   ]
  },
  {
   "cell_type": "code",
   "execution_count": 6,
   "id": "4174f817",
   "metadata": {},
   "outputs": [
    {
     "name": "stdout",
     "output_type": "stream",
     "text": [
      "Strategy: lc\n",
      "Original F1: 73.63\n",
      "Average noisy F1: 69.91\n",
      "Absolute diff: -3.72\n",
      "Relative diff: -5.06\n",
      "==================================================\n",
      "Strategy: mc\n",
      "Original F1: 76.42\n",
      "Average noisy F1: 68.22\n",
      "Absolute diff: -8.2\n",
      "Relative diff: -10.72\n",
      "==================================================\n",
      "Strategy: kmeans\n",
      "Original F1: 72.74\n",
      "Average noisy F1: 67.64\n",
      "Absolute diff: -5.09\n",
      "Relative diff: -7.0\n",
      "==================================================\n",
      "Strategy: coreset\n",
      "Original F1: 72.59\n",
      "Average noisy F1: 66.38\n",
      "Absolute diff: -6.21\n",
      "Relative diff: -8.55\n",
      "==================================================\n",
      "Strategy: besra\n",
      "Original F1: 73.97\n",
      "Average noisy F1: 68.27\n",
      "Absolute diff: -5.7\n",
      "Relative diff: -7.71\n",
      "==================================================\n",
      "Strategy: comal\n",
      "Original F1: 76.53\n",
      "Average noisy F1: 70.09\n",
      "Absolute diff: -6.44\n",
      "Relative diff: -8.42\n",
      "==================================================\n",
      "Strategy: random\n",
      "Original F1: 74.26\n",
      "Average noisy F1: 67.22\n",
      "Absolute diff: -7.04\n",
      "Relative diff: -9.47\n",
      "==================================================\n",
      "Strategy: passive\n",
      "Original F1: 74.18\n",
      "Average noisy F1: 70.76\n",
      "Absolute diff: -3.42\n",
      "Relative diff: -4.61\n",
      "==================================================\n"
     ]
    }
   ],
   "source": [
    "noisy_result, original_result = load_data('hsd')\n",
    "diffs = calculate_differences(noisy_result, original_result)\n",
    "# print_differences(diffs)"
   ]
  },
  {
   "cell_type": "markdown",
   "id": "0526fa6f",
   "metadata": {},
   "source": [
    "# NETIFIER"
   ]
  },
  {
   "cell_type": "code",
   "execution_count": 7,
   "id": "ca4af791",
   "metadata": {},
   "outputs": [
    {
     "name": "stdout",
     "output_type": "stream",
     "text": [
      "Strategy: lc\n",
      "Original F1: 76.34\n",
      "Average noisy F1: 70.97\n",
      "Absolute diff: -5.37\n",
      "Relative diff: -7.03\n",
      "==================================================\n",
      "Strategy: mc\n",
      "Original F1: 79.7\n",
      "Average noisy F1: 72.25\n",
      "Absolute diff: -7.45\n",
      "Relative diff: -9.35\n",
      "==================================================\n",
      "Strategy: kmeans\n",
      "Original F1: 75.76\n",
      "Average noisy F1: 69.16\n",
      "Absolute diff: -6.6\n",
      "Relative diff: -8.71\n",
      "==================================================\n",
      "Strategy: coreset\n",
      "Original F1: 78.65\n",
      "Average noisy F1: 70.6\n",
      "Absolute diff: -8.05\n",
      "Relative diff: -10.23\n",
      "==================================================\n",
      "Strategy: besra\n",
      "Original F1: 78.83\n",
      "Average noisy F1: 71.27\n",
      "Absolute diff: -7.56\n",
      "Relative diff: -9.59\n",
      "==================================================\n",
      "Strategy: comal\n",
      "Original F1: 81.14\n",
      "Average noisy F1: 72.76\n",
      "Absolute diff: -8.38\n",
      "Relative diff: -10.32\n",
      "==================================================\n",
      "Strategy: random\n",
      "Original F1: 78.93\n",
      "Average noisy F1: 69.68\n",
      "Absolute diff: -9.26\n",
      "Relative diff: -11.73\n",
      "==================================================\n",
      "Strategy: passive\n",
      "Original F1: 80.15\n",
      "Average noisy F1: 73.32\n",
      "Absolute diff: -6.83\n",
      "Relative diff: -8.52\n",
      "==================================================\n"
     ]
    }
   ],
   "source": [
    "noisy_result, original_result = load_data('netifier')\n",
    "diffs = calculate_differences(noisy_result, original_result)\n",
    "# print_differences(diffs)"
   ]
  },
  {
   "cell_type": "markdown",
   "id": "be22211e",
   "metadata": {},
   "source": [
    "# DAT"
   ]
  },
  {
   "cell_type": "code",
   "execution_count": 8,
   "id": "51814695",
   "metadata": {},
   "outputs": [
    {
     "name": "stdout",
     "output_type": "stream",
     "text": [
      "Strategy: lc\n",
      "Original F1: 98.04\n",
      "Average noisy F1: 97.33\n",
      "Absolute diff: -0.71\n",
      "Relative diff: -0.73\n",
      "==================================================\n",
      "Strategy: mc\n",
      "Original F1: 98.04\n",
      "Average noisy F1: 96.86\n",
      "Absolute diff: -1.19\n",
      "Relative diff: -1.21\n",
      "==================================================\n",
      "Strategy: kmeans\n",
      "Original F1: 98.04\n",
      "Average noisy F1: 98.04\n",
      "Absolute diff: 0.0\n",
      "Relative diff: 0.0\n",
      "==================================================\n",
      "Strategy: coreset\n",
      "Original F1: 98.04\n",
      "Average noisy F1: 97.57\n",
      "Absolute diff: -0.47\n",
      "Relative diff: -0.48\n",
      "==================================================\n",
      "Strategy: besra\n",
      "Original F1: 98.04\n",
      "Average noisy F1: 96.64\n",
      "Absolute diff: -1.4\n",
      "Relative diff: -1.43\n",
      "==================================================\n",
      "Strategy: comal\n",
      "Original F1: 98.04\n",
      "Average noisy F1: 98.04\n",
      "Absolute diff: 0.0\n",
      "Relative diff: 0.0\n",
      "==================================================\n",
      "Strategy: random\n",
      "Original F1: 97.09\n",
      "Average noisy F1: 96.86\n",
      "Absolute diff: -0.23\n",
      "Relative diff: -0.24\n",
      "==================================================\n",
      "Strategy: passive\n",
      "Original F1: 98.04\n",
      "Average noisy F1: 95.93\n",
      "Absolute diff: -2.11\n",
      "Relative diff: -2.15\n",
      "==================================================\n"
     ]
    }
   ],
   "source": [
    "noisy_result, original_result = load_data('dat')\n",
    "diffs = calculate_differences(noisy_result, original_result)\n",
    "# print_differences(diffs)"
   ]
  },
  {
   "cell_type": "markdown",
   "id": "983a4ab7",
   "metadata": {},
   "source": [
    "# CASA"
   ]
  },
  {
   "cell_type": "code",
   "execution_count": 9,
   "id": "e930e8ff",
   "metadata": {},
   "outputs": [
    {
     "name": "stdout",
     "output_type": "stream",
     "text": [
      "Strategy: lc\n",
      "Original F1: 95.33\n",
      "Average noisy F1: 92.5\n",
      "Absolute diff: -2.83\n",
      "Relative diff: -2.97\n",
      "==================================================\n",
      "Strategy: mc\n",
      "Original F1: 98.0\n",
      "Average noisy F1: 92.5\n",
      "Absolute diff: -5.5\n",
      "Relative diff: -5.61\n",
      "==================================================\n",
      "Strategy: kmeans\n",
      "Original F1: 96.67\n",
      "Average noisy F1: 91.17\n",
      "Absolute diff: -5.5\n",
      "Relative diff: -5.69\n",
      "==================================================\n",
      "Strategy: coreset\n",
      "Original F1: 96.67\n",
      "Average noisy F1: 92.67\n",
      "Absolute diff: -4.0\n",
      "Relative diff: -4.14\n",
      "==================================================\n",
      "Strategy: besra\n",
      "Original F1: 96.67\n",
      "Average noisy F1: 91.67\n",
      "Absolute diff: -5.0\n",
      "Relative diff: -5.17\n",
      "==================================================\n",
      "Strategy: comal\n",
      "Original F1: 95.33\n",
      "Average noisy F1: 93.34\n",
      "Absolute diff: -1.99\n",
      "Relative diff: -2.09\n",
      "==================================================\n",
      "Strategy: random\n",
      "Original F1: 95.33\n",
      "Average noisy F1: 91.17\n",
      "Absolute diff: -4.16\n",
      "Relative diff: -4.37\n",
      "==================================================\n",
      "Strategy: passive\n",
      "Original F1: 97.33\n",
      "Average noisy F1: 91.67\n",
      "Absolute diff: -5.66\n",
      "Relative diff: -5.82\n",
      "==================================================\n"
     ]
    }
   ],
   "source": [
    "noisy_result, original_result = load_data('casa')\n",
    "diffs = calculate_differences(noisy_result, original_result)\n",
    "# print_differences(diffs)"
   ]
  },
  {
   "cell_type": "markdown",
   "id": "66bcabe6",
   "metadata": {},
   "source": [
    "# HOASA"
   ]
  },
  {
   "cell_type": "code",
   "execution_count": 10,
   "id": "887c6fe1",
   "metadata": {},
   "outputs": [
    {
     "name": "stdout",
     "output_type": "stream",
     "text": [
      "Strategy: lc\n",
      "Original F1: 95.89\n",
      "Average noisy F1: 92.19\n",
      "Absolute diff: -3.7\n",
      "Relative diff: -3.86\n",
      "==================================================\n",
      "Strategy: mc\n",
      "Original F1: 96.43\n",
      "Average noisy F1: 92.94\n",
      "Absolute diff: -3.49\n",
      "Relative diff: -3.61\n",
      "==================================================\n",
      "Strategy: kmeans\n",
      "Original F1: 95.54\n",
      "Average noisy F1: 92.64\n",
      "Absolute diff: -2.91\n",
      "Relative diff: -3.04\n",
      "==================================================\n",
      "Strategy: coreset\n",
      "Original F1: 95.89\n",
      "Average noisy F1: 92.54\n",
      "Absolute diff: -3.34\n",
      "Relative diff: -3.49\n",
      "==================================================\n",
      "Strategy: besra\n",
      "Original F1: 96.07\n",
      "Average noisy F1: 92.68\n",
      "Absolute diff: -3.39\n",
      "Relative diff: -3.53\n",
      "==================================================\n",
      "Strategy: comal\n",
      "Original F1: 95.36\n",
      "Average noisy F1: 91.92\n",
      "Absolute diff: -3.44\n",
      "Relative diff: -3.61\n",
      "==================================================\n",
      "Strategy: random\n",
      "Original F1: 95.18\n",
      "Average noisy F1: 92.5\n",
      "Absolute diff: -2.68\n",
      "Relative diff: -2.82\n",
      "==================================================\n",
      "Strategy: passive\n",
      "Original F1: 96.61\n",
      "Average noisy F1: 93.17\n",
      "Absolute diff: -3.44\n",
      "Relative diff: -3.56\n",
      "==================================================\n"
     ]
    }
   ],
   "source": [
    "noisy_result, original_result = load_data('hoasa')\n",
    "diffs = calculate_differences(noisy_result, original_result)\n",
    "# print_differences(diffs)"
   ]
  }
 ],
 "metadata": {
  "kernelspec": {
   "display_name": "Python 3",
   "language": "python",
   "name": "python3"
  },
  "language_info": {
   "codemirror_mode": {
    "name": "ipython",
    "version": 3
   },
   "file_extension": ".py",
   "mimetype": "text/x-python",
   "name": "python",
   "nbconvert_exporter": "python",
   "pygments_lexer": "ipython3",
   "version": "3.9.6"
  }
 },
 "nbformat": 4,
 "nbformat_minor": 5
}
